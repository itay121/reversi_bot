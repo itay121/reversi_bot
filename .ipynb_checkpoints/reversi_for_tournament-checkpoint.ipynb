{
 "cells": [
  {
   "cell_type": "code",
   "execution_count": 1,
   "id": "7de46480-36aa-48c2-bf22-10398d2aa895",
   "metadata": {
    "tags": []
   },
   "outputs": [],
   "source": [
    "import numpy as np"
   ]
  },
  {
   "cell_type": "code",
   "execution_count": null,
   "id": "17ff4f8b-3992-48aa-88d7-2818c5baa722",
   "metadata": {},
   "outputs": [],
   "source": []
  },
  {
   "cell_type": "code",
   "execution_count": 21,
   "id": "cfec11ea-f074-4043-8e63-078db263b9f6",
   "metadata": {},
   "outputs": [],
   "source": [
    "def move_to_coordinates(square):\n",
    "    return (ord(move[0].lower()) - 97, int(move[1]) - 1)"
   ]
  },
  {
   "cell_type": "code",
   "execution_count": 2,
   "id": "827a1456-85c2-48cb-b1bd-cf59722c7a3c",
   "metadata": {
    "tags": []
   },
   "outputs": [],
   "source": [
    "def check_vector(board, move, vector, turn):\n",
    "    opponent_streak = False\n",
    "    if not 0 <= (move % 8 + vector[1]) <= 7 or not 0 <= (move // 8 + vector[0]) <= 7:\n",
    "        return False\n",
    "    for i in range(7):        \n",
    "        square += 8 * vector[0] + vector[1]\n",
    "        \n",
    "        if not board[move[0]][move[1]]:\n",
    "            return False\n",
    "        \n",
    "        elif not board[move[0]][move[1]] == turn:\n",
    "            opponent_streak = True\n",
    "            if not 0 <= (move % 8 + vector[1]) <= 7 or not 0 <= (move // 8 + vector[0]) <= 7:\n",
    "                return False\n",
    "        else:\n",
    "            break\n",
    "            \n",
    "        # print(number_to_square(square))\n",
    "    return opponent_streak\n"
   ]
  },
  {
   "cell_type": "code",
   "execution_count": 3,
   "id": "b71ddb97-5f6b-410c-8a17-b44cffea4e5e",
   "metadata": {
    "tags": []
   },
   "outputs": [],
   "source": [
    "def alpha_beta_search(node, depth, maximizing_player, alpha=-float('inf'), beta=float('inf')):\n",
    "    if depth == 0 or node.is_terminal():\n",
    "        return None, node.evaluate()\n",
    "        # Return the best value and None for the move\n",
    "\n",
    "    if maximizing_player:\n",
    "        best_value = -float('inf')\n",
    "        best_move = None\n",
    "        for child in node.get_children():\n",
    "            _, child_value,  = alpha_beta_search(child, depth - 1,  False, alpha, beta)\n",
    "            if child_value > best_value:\n",
    "                best_value = child_value\n",
    "                best_move = child.last_move\n",
    "            alpha = max(alpha, best_value)\n",
    "            if beta <= alpha:\n",
    "                break\n",
    "        return best_move, best_value\n",
    "    else:\n",
    "        best_value = float('inf')\n",
    "        best_move = None\n",
    "        for child in node.get_children():\n",
    "            _, child_value = alpha_beta_search(child, depth - 1, True, alpha, beta)\n",
    "            if child_value < best_value:\n",
    "                best_value = child_value\n",
    "                best_move = child.last_move\n",
    "            beta = min(beta, best_value)\n",
    "            if beta <= alpha:\n",
    "                break\n",
    "        return best_move, best_value\n",
    "    \n",
    "# we need to define what happens when someone doesn't has a move"
   ]
  },
  {
   "cell_type": "code",
   "execution_count": 4,
   "id": "8b72a132-329a-4249-a95d-b69c1e66a8eb",
   "metadata": {
    "tags": []
   },
   "outputs": [],
   "source": [
    "class Node:\n",
    "    def __init__(self, board, turn, last_move=None):\n",
    "        self.board = board\n",
    "        self.turn = turn\n",
    "        self.last_move = last_move\n",
    "\n",
    "\n",
    "    def is_terminal(self):\n",
    "        if self.list_of_moves() == []:\n",
    "            # print('No valid_moves')\n",
    "            # and list_of_moves(self.board, True)\n",
    "            return True\n",
    "        else:\n",
    "            return False\n",
    "\n",
    "        \n",
    "    def get_children(self):\n",
    "        return [self.do_move(i) for i in self.list_of_moves()]\n",
    "    \n",
    "    \n",
    "    def valid_move(self, move):\n",
    "        if self.board[board[move[0]][move[1]]] == 0:\n",
    "            return False\n",
    "\n",
    "        else:\n",
    "            move_vectors = [(i, j) for i in range(-1, 2) for j in range(-1, 2)]\n",
    "            move_vectors.remove((0,0))\n",
    "            for vector in move_vectors:\n",
    "                if check_vector(self.board, move, vector, self.turn):\n",
    "                    return True\n",
    "            return False\n",
    "    \n",
    "    def do_move(self, move):\n",
    "        new_board = self.board.copy()\n",
    "        if self.valid_move(move):\n",
    "            move_vectors = [(i, j) for i in range(-1, 2) for j in range(-1, 2)]\n",
    "            move_vectors.remove((0,0))\n",
    "            \n",
    "            for vector in move_vectors:\n",
    "                if check_vector(self.board, move, vector, self.turn):\n",
    "                    new_board = flip_stones_in_vector(new_board, move, vector, self.turn)\n",
    "\n",
    "            return Node(new_board, 3 - self.turn, move)\n",
    "        else:\n",
    "            # print(\"The move isn't legal\")\n",
    "            return Node(new_board, self.turn, move)\n",
    "        \n",
    "    \n",
    "    def list_of_moves(self):\n",
    "        list_of_moves = []\n",
    "        for i in range(64):\n",
    "            if self.valid_move(i):\n",
    "                list_of_moves.append(i)\n",
    "        return list_of_moves\n",
    "\n",
    "\n",
    "    def evaluate(self):\n",
    "        masking = [\n",
    "                  [ 30, -10, 10, 5, 0, 0, 0, 0],\n",
    "                  [-10, -20,  2, 0, 0, 0, 0, 0],\n",
    "                  [ 10,   2, 10, 0, 0, 0, 0, 0],\n",
    "                  [  5,   0,  0, 3, 0, 0, 0, 0],\n",
    "                  [  0,   0,  0, 0, 0, 0, 0, 0],\n",
    "                  [  0,   0,  0, 0, 0, 0, 0, 0],\n",
    "                  [  0,   0,  0, 0, 0, 0, 0, 0],\n",
    "                  [  0,   0,  0, 0, 0, 0, 0, 0]]\n",
    "\n",
    "        masking = np.array(rotate_masking(masking))\n",
    "\n",
    "        evaluation = apply_masking(self.board, masking)\n",
    "\n",
    "        return evaluation"
   ]
  },
  {
   "cell_type": "code",
   "execution_count": 5,
   "id": "0630301e-d0bf-4e0d-bbda-ce4e7906cb82",
   "metadata": {
    "tags": []
   },
   "outputs": [],
   "source": [
    "def flip_stones_in_vector(board, move, vector, turn):\n",
    "    board[move[0]][move[1]] = turn\n",
    "    for i in range(7):        \n",
    "        square_number += 8 * vector[0] + vector[1]\n",
    "        new_move[]\n",
    "        \n",
    "        if not board[move[0]][move[1]] == turn:\n",
    "            board[move[0]][move[1] = turn\n",
    "        else:\n",
    "            return board\n",
    "    # wont reach\n",
    "    return board"
   ]
  },
  {
   "cell_type": "code",
   "execution_count": 6,
   "id": "ad1a0478-db5f-4176-ac5c-8e527c6bfd9f",
   "metadata": {
    "tags": []
   },
   "outputs": [],
   "source": [
    "def rotate_masking(masking):\n",
    "    new_masking = [i[0:4] + i[0:4][::-1] for i in masking[0:4]]\n",
    "    return new_masking + new_masking[::-1]"
   ]
  },
  {
   "cell_type": "code",
   "execution_count": 7,
   "id": "c541a63b-f7db-404b-9137-64884256b191",
   "metadata": {
    "tags": []
   },
   "outputs": [],
   "source": [
    "def apply_masking(board, masking):\n",
    "    evaluation = 0\n",
    "    for row in range(len(board)):\n",
    "        for column in range(len(board[row])):\n",
    "            if board[row][column] == 1:\n",
    "                evaluation += masking[row][column]\n",
    "            elif board[row][column] == 2:\n",
    "                evaluation -= masking[row][column]\n",
    "    return evaluation"
   ]
  },
  {
   "cell_type": "code",
   "execution_count": 9,
   "id": "125771af-b60f-484d-92ce-af8e1d8b064a",
   "metadata": {
    "tags": []
   },
   "outputs": [],
   "source": [
    "def bot_move(new_node, depth):\n",
    "    best_move, best_value = alpha_beta_search(new_node, depth, new_node.turn)\n",
    "    new_node = new_node.do_move(best_move)\n",
    "    return new_node, best_move, best_value"
   ]
  },
  {
   "cell_type": "code",
   "execution_count": 10,
   "id": "d07bfbf4-f255-4fe3-bb51-361bab80a23a",
   "metadata": {
    "tags": []
   },
   "outputs": [],
   "source": [
    "def human_move(new_node):\n",
    "    display(new_node.board)\n",
    "    print(new_node.turn)\n",
    "    move = input()\n",
    "    if new_node.valid_move(move):\n",
    "        new_node = new_node.do_move(move)\n",
    "        return new_node\n",
    "    else:\n",
    "        print('Illegal move')\n",
    "        print()\n",
    "        return human_move(new_node)"
   ]
  },
  {
   "cell_type": "code",
   "execution_count": null,
   "id": "32de9162-bd33-4fd8-b849-3172e9e0e73d",
   "metadata": {
    "tags": []
   },
   "outputs": [],
   "source": []
  },
  {
   "cell_type": "code",
   "execution_count": 11,
   "id": "26a8b342-4418-4a72-bdc1-471444eb6dee",
   "metadata": {},
   "outputs": [],
   "source": [
    "starting_position = [[1 if (i, j) in [(3, 4), (4, 3)] else 2 if (i, j) in [(3, 3), (4, 4)] else 0 for j in range(8)] for i in range(8)]"
   ]
  },
  {
   "cell_type": "code",
   "execution_count": 12,
   "id": "30b49a00-7bc8-4001-a5da-b7506c1e7217",
   "metadata": {
    "tags": []
   },
   "outputs": [],
   "source": [
    "alpha = -float('inf')\n",
    "beta = float('inf')\n",
    "depth = 3\n",
    "new_node = Node(starting_position, True)"
   ]
  },
  {
   "cell_type": "code",
   "execution_count": 13,
   "id": "2bd50f3b-b04d-4bec-9569-ac9c36ef76b7",
   "metadata": {
    "tags": []
   },
   "outputs": [
    {
     "ename": "NameError",
     "evalue": "name 'number_to_square' is not defined",
     "output_type": "error",
     "traceback": [
      "\u001b[1;31m---------------------------------------------------------------------------\u001b[0m",
      "\u001b[1;31mNameError\u001b[0m                                 Traceback (most recent call last)",
      "Cell \u001b[1;32mIn[13], line 3\u001b[0m\n\u001b[0;32m      1\u001b[0m \u001b[38;5;28;01mfor\u001b[39;00m i \u001b[38;5;129;01min\u001b[39;00m \u001b[38;5;28mrange\u001b[39m(\u001b[38;5;241m40\u001b[39m):\n\u001b[0;32m      2\u001b[0m     \u001b[38;5;66;03m# new_node = human_move(new_node)\u001b[39;00m\n\u001b[1;32m----> 3\u001b[0m     new_node, best_move, best_value \u001b[38;5;241m=\u001b[39m \u001b[43mbot_move\u001b[49m\u001b[43m(\u001b[49m\u001b[43mnew_node\u001b[49m\u001b[43m,\u001b[49m\u001b[43m \u001b[49m\u001b[43mdepth\u001b[49m\u001b[43m)\u001b[49m\n\u001b[0;32m      4\u001b[0m     \u001b[38;5;28mprint\u001b[39m(best_move, best_value)\n\u001b[0;32m      5\u001b[0m     display(new_node\u001b[38;5;241m.\u001b[39mboard)\n",
      "Cell \u001b[1;32mIn[9], line 2\u001b[0m, in \u001b[0;36mbot_move\u001b[1;34m(new_node, depth)\u001b[0m\n\u001b[0;32m      1\u001b[0m \u001b[38;5;28;01mdef\u001b[39;00m \u001b[38;5;21mbot_move\u001b[39m(new_node, depth):\n\u001b[1;32m----> 2\u001b[0m     best_move, best_value \u001b[38;5;241m=\u001b[39m \u001b[43malpha_beta_search\u001b[49m\u001b[43m(\u001b[49m\u001b[43mnew_node\u001b[49m\u001b[43m,\u001b[49m\u001b[43m \u001b[49m\u001b[43mdepth\u001b[49m\u001b[43m,\u001b[49m\u001b[43m \u001b[49m\u001b[43mnew_node\u001b[49m\u001b[38;5;241;43m.\u001b[39;49m\u001b[43mturn\u001b[49m\u001b[43m)\u001b[49m\n\u001b[0;32m      3\u001b[0m     new_node \u001b[38;5;241m=\u001b[39m new_node\u001b[38;5;241m.\u001b[39mdo_move(best_move)\n\u001b[0;32m      4\u001b[0m     \u001b[38;5;28;01mreturn\u001b[39;00m new_node, best_move, best_value\n",
      "Cell \u001b[1;32mIn[3], line 2\u001b[0m, in \u001b[0;36malpha_beta_search\u001b[1;34m(node, depth, maximizing_player, alpha, beta)\u001b[0m\n\u001b[0;32m      1\u001b[0m \u001b[38;5;28;01mdef\u001b[39;00m \u001b[38;5;21malpha_beta_search\u001b[39m(node, depth, maximizing_player, alpha\u001b[38;5;241m=\u001b[39m\u001b[38;5;241m-\u001b[39m\u001b[38;5;28mfloat\u001b[39m(\u001b[38;5;124m'\u001b[39m\u001b[38;5;124minf\u001b[39m\u001b[38;5;124m'\u001b[39m), beta\u001b[38;5;241m=\u001b[39m\u001b[38;5;28mfloat\u001b[39m(\u001b[38;5;124m'\u001b[39m\u001b[38;5;124minf\u001b[39m\u001b[38;5;124m'\u001b[39m)):\n\u001b[1;32m----> 2\u001b[0m     \u001b[38;5;28;01mif\u001b[39;00m depth \u001b[38;5;241m==\u001b[39m \u001b[38;5;241m0\u001b[39m \u001b[38;5;129;01mor\u001b[39;00m \u001b[43mnode\u001b[49m\u001b[38;5;241;43m.\u001b[39;49m\u001b[43mis_terminal\u001b[49m\u001b[43m(\u001b[49m\u001b[43m)\u001b[49m:\n\u001b[0;32m      3\u001b[0m         \u001b[38;5;28;01mreturn\u001b[39;00m \u001b[38;5;28;01mNone\u001b[39;00m, node\u001b[38;5;241m.\u001b[39mevaluate()\n\u001b[0;32m      4\u001b[0m         \u001b[38;5;66;03m# Return the best value and None for the move\u001b[39;00m\n",
      "Cell \u001b[1;32mIn[4], line 9\u001b[0m, in \u001b[0;36mNode.is_terminal\u001b[1;34m(self)\u001b[0m\n\u001b[0;32m      8\u001b[0m \u001b[38;5;28;01mdef\u001b[39;00m \u001b[38;5;21mis_terminal\u001b[39m(\u001b[38;5;28mself\u001b[39m):\n\u001b[1;32m----> 9\u001b[0m     \u001b[38;5;28;01mif\u001b[39;00m \u001b[38;5;28;43mself\u001b[39;49m\u001b[38;5;241;43m.\u001b[39;49m\u001b[43mlist_of_moves\u001b[49m\u001b[43m(\u001b[49m\u001b[43m)\u001b[49m \u001b[38;5;241m==\u001b[39m []:\n\u001b[0;32m     10\u001b[0m         \u001b[38;5;66;03m# print('No valid_moves')\u001b[39;00m\n\u001b[0;32m     11\u001b[0m         \u001b[38;5;66;03m# and list_of_moves(self.board, True)\u001b[39;00m\n\u001b[0;32m     12\u001b[0m         \u001b[38;5;28;01mreturn\u001b[39;00m \u001b[38;5;28;01mTrue\u001b[39;00m\n\u001b[0;32m     13\u001b[0m     \u001b[38;5;28;01melse\u001b[39;00m:\n",
      "Cell \u001b[1;32mIn[4], line 56\u001b[0m, in \u001b[0;36mNode.list_of_moves\u001b[1;34m(self)\u001b[0m\n\u001b[0;32m     53\u001b[0m list_of_moves \u001b[38;5;241m=\u001b[39m []\n\u001b[0;32m     54\u001b[0m \u001b[38;5;28;01mfor\u001b[39;00m i \u001b[38;5;129;01min\u001b[39;00m \u001b[38;5;28mrange\u001b[39m(\u001b[38;5;241m64\u001b[39m):\n\u001b[0;32m     55\u001b[0m     \u001b[38;5;66;03m# print(number_to_square(i))\u001b[39;00m\n\u001b[1;32m---> 56\u001b[0m     \u001b[38;5;28;01mif\u001b[39;00m \u001b[38;5;28mself\u001b[39m\u001b[38;5;241m.\u001b[39mvalid_move(\u001b[43mnumber_to_square\u001b[49m(i)):\n\u001b[0;32m     57\u001b[0m         list_of_moves\u001b[38;5;241m.\u001b[39mappend(i)\n\u001b[0;32m     58\u001b[0m \u001b[38;5;28;01mreturn\u001b[39;00m list_of_moves\n",
      "\u001b[1;31mNameError\u001b[0m: name 'number_to_square' is not defined"
     ]
    }
   ],
   "source": [
    "for i in range(40):\n",
    "    # new_node = human_move(new_node)\n",
    "    new_node, best_move, best_value = bot_move(new_node, depth)\n",
    "    print(best_move, best_value)\n",
    "    display(new_node.board)"
   ]
  },
  {
   "cell_type": "code",
   "execution_count": null,
   "id": "78cf8542-a15f-4f71-8b0f-a862ebecbb15",
   "metadata": {
    "tags": []
   },
   "outputs": [],
   "source": [
    "# We did-\n",
    "# Nice visualization\n",
    "# Possible moves\n",
    "# Implement basic Mini max / alpha beta pruning\n",
    "\n",
    "\n",
    "\n",
    "# We need to do-\n",
    "# Make a better eveluation function\n",
    "# Make a script that makes the code works also without the chess model (transposition)\n",
    "# Understing their API and creating git for the project\n",
    "# Look on how much time every part takes\n",
    "# Make relative values when corner is closed\n",
    "\n",
    "# Make a game loop when we can make 1 bot fight another and maybe even make it into a result matrix so we can\n",
    "# evaluate the bot with the best results\n",
    "\n",
    "\n",
    "# Ideas-\n",
    "# Good and bad squeres\n",
    "# ML\n",
    "# Minimaize opponent moves and maximize yours\n",
    "# Take areas in all over the board (be spread, low density)\n",
    "# Maybe take all of the opponent pieces or get higher number of pieces (can also be bad)\n"
   ]
  },
  {
   "cell_type": "code",
   "execution_count": 16,
   "id": "febb5747-3fb1-4973-8f35-81b3b12283d5",
   "metadata": {},
   "outputs": [
    {
     "name": "stdout",
     "output_type": "stream",
     "text": [
      "-1\n"
     ]
    },
    {
     "ename": "TypeError",
     "evalue": "unsupported operand type(s) for ** or pow(): 'NoneType' and 'int'",
     "output_type": "error",
     "traceback": [
      "\u001b[1;31m---------------------------------------------------------------------------\u001b[0m",
      "\u001b[1;31mTypeError\u001b[0m                                 Traceback (most recent call last)",
      "Cell \u001b[1;32mIn[16], line 2\u001b[0m\n\u001b[0;32m      1\u001b[0m x \u001b[38;5;241m=\u001b[39m \u001b[38;5;241m1\u001b[39m\n\u001b[1;32m----> 2\u001b[0m \u001b[38;5;28;43mprint\u001b[39;49m\u001b[43m(\u001b[49m\u001b[43m(\u001b[49m\u001b[38;5;241;43m2\u001b[39;49m\u001b[43m \u001b[49m\u001b[38;5;241;43m*\u001b[39;49m\u001b[43m \u001b[49m\u001b[43mx\u001b[49m\u001b[43m)\u001b[49m\u001b[43m \u001b[49m\u001b[38;5;241;43m-\u001b[39;49m\u001b[43m \u001b[49m\u001b[38;5;241;43m3\u001b[39;49m\u001b[43m)\u001b[49m\u001b[43m \u001b[49m\u001b[38;5;241;43m*\u001b[39;49m\u001b[38;5;241;43m*\u001b[39;49m\u001b[43m \u001b[49m\u001b[38;5;241;43m2\u001b[39;49m\n\u001b[0;32m      3\u001b[0m x \u001b[38;5;241m=\u001b[39m \u001b[38;5;241m2\u001b[39m\n\u001b[0;32m      4\u001b[0m \u001b[38;5;28mprint\u001b[39m((\u001b[38;5;241m2\u001b[39m \u001b[38;5;241m*\u001b[39m x) \u001b[38;5;241m-\u001b[39m \u001b[38;5;241m3\u001b[39m) \u001b[38;5;241m*\u001b[39m\u001b[38;5;241m*\u001b[39m \u001b[38;5;241m2\u001b[39m\n",
      "\u001b[1;31mTypeError\u001b[0m: unsupported operand type(s) for ** or pow(): 'NoneType' and 'int'"
     ]
    }
   ],
   "source": [
    "x = 1\n",
    "print((2 * x) - 3) ** 2\n",
    "x = 2\n",
    "print((2 * x) - 3) ** 2"
   ]
  },
  {
   "cell_type": "code",
   "execution_count": null,
   "id": "28793923-11a9-47eb-ae27-ece54568c9ee",
   "metadata": {},
   "outputs": [],
   "source": [
    "1, 2\n",
    "a2"
   ]
  }
 ],
 "metadata": {
  "kernelspec": {
   "display_name": "Python 3 (ipykernel)",
   "language": "python",
   "name": "python3"
  },
  "language_info": {
   "codemirror_mode": {
    "name": "ipython",
    "version": 3
   },
   "file_extension": ".py",
   "mimetype": "text/x-python",
   "name": "python",
   "nbconvert_exporter": "python",
   "pygments_lexer": "ipython3",
   "version": "3.10.10"
  }
 },
 "nbformat": 4,
 "nbformat_minor": 5
}
