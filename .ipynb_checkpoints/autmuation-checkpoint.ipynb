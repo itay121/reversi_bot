{
 "cells": [
  {
   "cell_type": "code",
   "execution_count": 15,
   "id": "42a05202-e720-423a-94ba-d7e3f2657afd",
   "metadata": {
    "tags": []
   },
   "outputs": [],
   "source": [
    "import requests\n",
    "import json\n",
    "\n",
    "# Define the URL\n",
    "url = \"http://51.103.209.82/run\"\n",
    "\n",
    "# Define the form data as a dictionary\n",
    "form_data = {\n",
    "    'team': 'ab65vtxrqr',\n",
    "    'enemy': 'g3'\n",
    "}\n",
    "\n",
    "# Send the POST request with form data\n",
    "response = requests.post(url, data=form_data)\n",
    "\n",
    "# Check the response\n",
    "if response.status_code == 200:\n",
    "    # Get the HTML content from the response\n",
    "    html_content = response.text\n",
    "a = json.loads(html_content[html_content.find('data') + 7 : html_content.find('data') + html_content[html_content.find('data'):-1].find(';')])\n",
    "moves = a['moves']\n",
    "winner = a['winner']\n",
    "print(winner)\n",
    "print(moves)"
   ]
  },
  {
   "cell_type": "code",
   "execution_count": null,
   "id": "209d6675-fafe-45ad-b52c-c6c427d6d8c0",
   "metadata": {},
   "outputs": [],
   "source": []
  }
 ],
 "metadata": {
  "kernelspec": {
   "display_name": "Python 3 (ipykernel)",
   "language": "python",
   "name": "python3"
  },
  "language_info": {
   "codemirror_mode": {
    "name": "ipython",
    "version": 3
   },
   "file_extension": ".py",
   "mimetype": "text/x-python",
   "name": "python",
   "nbconvert_exporter": "python",
   "pygments_lexer": "ipython3",
   "version": "3.10.10"
  }
 },
 "nbformat": 4,
 "nbformat_minor": 5
}
