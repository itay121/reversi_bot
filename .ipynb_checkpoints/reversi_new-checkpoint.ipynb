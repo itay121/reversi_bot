{
 "cells": [
  {
   "cell_type": "code",
   "execution_count": 61,
   "id": "951b0a46-cc9d-4d61-9c53-dbb51fb39f66",
   "metadata": {},
   "outputs": [
    {
     "name": "stdout",
     "output_type": "stream",
     "text": [
      "None\n"
     ]
    }
   ],
   "source": [
    "import multiprocessing\n",
    "import time\n",
    "\n",
    "SIZE = 8\n",
    "first_row = (1 << (SIZE + 1)) - 1\n",
    "last_row = first_row << (SIZE*(SIZE -1))\n",
    "first_col = 0\n",
    "for i in range(SIZE):\n",
    "    first_col |= 1 << (SIZE * i)\n",
    "last_col = first_col << (SIZE - 1)\n",
    "# DO NOT CHANGE THE ORDER OF THE ITEMS!\n",
    "DIRECTIONS = [(1, 1), (1, 0), (1, -1), (0, -1), (-1, -1), (-1, 0), (-1, 1), (0, 1)]\n",
    "DIRECTIONS_OFFSETS = [SIZE + 1, SIZE, SIZE - 1, -1, -(SIZE + 1), -SIZE, -(SIZE - 1), 1]\n",
    "\n",
    "\n",
    "def calculate_move(me: int, move: tuple[int, int], board: tuple[int, int]) -> tuple[int, int]:\n",
    "    \"\"\"\n",
    "    `me` should be 0 or 1.\n",
    "    \"\"\"\n",
    "    taken_places, colors = board\n",
    "\n",
    "    row, col = move\n",
    "    move_position_bit = 1 << (row * SIZE + col)\n",
    "\n",
    "    colors_flip = 0\n",
    "\n",
    "    for (d_row, d_col), bit_offset in zip(DIRECTIONS, DIRECTIONS_OFFSETS):\n",
    "        row, col = move\n",
    "\n",
    "        bit = move_position_bit\n",
    "        flip_n = 0\n",
    "\n",
    "        should_affect = False\n",
    "\n",
    "        while True:\n",
    "            row += d_row\n",
    "            col += d_col\n",
    "\n",
    "            if row >= SIZE or row < 0 or col >= SIZE or col < 0:\n",
    "                break\n",
    "\n",
    "            if bit_offset < 0:\n",
    "                bit >>= -bit_offset\n",
    "            else:\n",
    "                bit <<= bit_offset\n",
    "\n",
    "            if not (taken_places & bit):  # encountered empty place\n",
    "                break\n",
    "\n",
    "            if ((colors & bit) > 0) is (me > 0):  # a connection was made\n",
    "                should_affect = True\n",
    "                break\n",
    "\n",
    "            flip_n |= bit\n",
    "\n",
    "        if should_affect:\n",
    "            colors_flip ^= flip_n\n",
    "\n",
    "    if me:\n",
    "        colors_flip |= move_position_bit  # flip the selected move position color\n",
    "\n",
    "    return move_position_bit, colors_flip\n",
    "\n",
    "\n",
    "def apply_move(board: tuple[int, int], move_flip: tuple[int, int]) -> tuple[int, int]:\n",
    "    taken_places, colors = board\n",
    "    position_flip, colors_flip = move_flip\n",
    "\n",
    "    return taken_places ^ position_flip, colors ^ colors_flip\n",
    "\n",
    "\n",
    "def translate_to_bin(board: list[list[int]]) -> tuple[int, int]:\n",
    "    \"\"\"\n",
    "    2 values -> 1\n",
    "    1 values -> 0\n",
    "    | or , & and , ^ xor , ~ not , << shift left, >> shift right\n",
    "    \"\"\"\n",
    "    taken_places, colors = 0, 0\n",
    "    bit = 1\n",
    "\n",
    "    for row in range(SIZE):\n",
    "        for col in range(SIZE):\n",
    "            value = board[row][col]\n",
    "            if value != 0:\n",
    "                taken_places |= bit\n",
    "\n",
    "            if value == 2:\n",
    "                colors |= bit\n",
    "\n",
    "            bit <<= 1\n",
    "\n",
    "    return taken_places, colors\n",
    "\n",
    "\n",
    "def translate_bin_board_to_01none_lists(board: tuple[int, int]) -> list[list[int | None]]:\n",
    "    taken_places, colors = board\n",
    "\n",
    "    rows = []\n",
    "    bit = 1\n",
    "    for i in range(SIZE):\n",
    "        row = []\n",
    "        for j in range(SIZE):\n",
    "            is_taken_place = taken_places & bit\n",
    "\n",
    "            if is_taken_place:\n",
    "                color = (colors & bit) > 0\n",
    "                row.append(color)\n",
    "            else:\n",
    "                row.append(None)\n",
    "            bit <<= 1\n",
    "\n",
    "        rows.append(row)\n",
    "    return rows\n",
    "\n",
    "\n",
    "def translate_bin_move_to_row_col(bin_move):\n",
    "    move_position_bit, _ = bin_move\n",
    "    position_in_board = 0\n",
    "    while move_position_bit:\n",
    "        position_in_board += 1\n",
    "        move_position_bit >>= 1\n",
    "    position_in_board -= 1\n",
    "\n",
    "    row, col = divmod(position_in_board, SIZE)\n",
    "    return row, col\n",
    "\n",
    "\n",
    "def count_binary_1s(n: int) -> int:\n",
    "    c = 0\n",
    "    while n != 0:\n",
    "        if n & 1:\n",
    "            c += 1\n",
    "        n >>= 1\n",
    "    return c\n",
    "\n",
    "\n",
    "def preview_board(board: tuple[int, int]):\n",
    "    taken_places, colors = board\n",
    "\n",
    "    bit = 1\n",
    "    board_repr = \"\"\n",
    "    for i in range(SIZE):\n",
    "        for j in range(SIZE):\n",
    "            is_place_taken = taken_places & bit\n",
    "            if not is_place_taken:\n",
    "                board_repr += \".\"\n",
    "            else:\n",
    "                board_repr += \"1\" if colors & bit else \"0\"\n",
    "            bit <<= 1\n",
    "        board_repr += \"\\n\"\n",
    "    return board_repr\n",
    "\n",
    "\n",
    "STARTING_BOARD = [[0] * SIZE for _ in range(SIZE)]\n",
    "STARTING_BOARD[SIZE // 2 - 1][SIZE // 2 - 1] = 1\n",
    "STARTING_BOARD[SIZE // 2][SIZE // 2] = 1\n",
    "STARTING_BOARD[SIZE // 2 - 1][SIZE // 2] = 2\n",
    "STARTING_BOARD[SIZE // 2][SIZE // 2 - 1] = 2\n",
    "\n",
    "STARTING_BIN_BOARD = translate_to_bin(STARTING_BOARD)\n",
    "\n",
    "\n",
    "########################################################################################################################\n",
    "\n",
    "\n",
    "def get_available_moves(me, board):\n",
    "    moves = []\n",
    "\n",
    "    taken_places, colors = board\n",
    "\n",
    "    bit = 1\n",
    "    for row in range(SIZE):\n",
    "        for col in range(SIZE):\n",
    "            if not taken_places & bit:  # I.E. place is not taken\n",
    "                move = (row, col)\n",
    "                bin_move = calculate_move(me, move, board)\n",
    "                position_bit, colors_flip = bin_move\n",
    "                if (colors_flip & (~position_bit)) != 0:  # equivalent to \"is valid move?\"\n",
    "                    moves.append(bin_move)\n",
    "\n",
    "            bit <<= 1\n",
    "    return moves\n",
    "\n",
    "\n",
    "def order_moves(moves, start_with_move):\n",
    "    moves_with_values = []\n",
    "    for move in moves:\n",
    "        if move == start_with_move:\n",
    "            value = float('inf')\n",
    "\n",
    "        else:\n",
    "            location, color_flip = move\n",
    "            pieces_flipped = count_binary_1s(color_flip)\n",
    "            if location & color_flip == location:\n",
    "                pieces_flipped -= 1\n",
    "            value = -pieces_flipped\n",
    "\n",
    "            row, col = translate_bin_move_to_row_col(move)\n",
    "            if row == 0 or row == SIZE - 1:\n",
    "                value += 7\n",
    "            if col == 0 or col == SIZE - 1:\n",
    "                value += 7\n",
    "\n",
    "        moves_with_values.append([value, move])\n",
    "\n",
    "    ordered_moves = sorted(moves_with_values, key=lambda x: x[0])\n",
    "    return [x[1] for x in ordered_moves]\n",
    "\n",
    "\n",
    "def rotate_masking(masking: list[list]):\n",
    "    result = []\n",
    "    for row in masking:\n",
    "        result.append(row + row[::-1])\n",
    "\n",
    "    n = len(result)\n",
    "    for i in range(n):\n",
    "        result.append(result[n - i - 1])\n",
    "    return result\n",
    "\n",
    "\n",
    "MASKING = [\n",
    "    [30000, -15, 25, 5],\n",
    "    [-15, -75, 2, 2],\n",
    "    [25, 2, 15, 2],\n",
    "    [5, 2, 2, 3]\n",
    "]\n",
    "\n",
    "\n",
    "MASKING = rotate_masking(MASKING)\n",
    "\n",
    "\n",
    "def evaluate_board(board, move):\n",
    "    bit = 1\n",
    "    taken_places, colors = board\n",
    "    first_player_taken_places, second_player_taken_places = 0, 0\n",
    "\n",
    "    value = 0\n",
    "    for row in range(SIZE):\n",
    "        for col in range(SIZE):\n",
    "            if taken_places & bit:\n",
    "                masking_value = MASKING[row][col]\n",
    "                if colors & bit:\n",
    "                    value += masking_value\n",
    "                    first_player_taken_places += 1\n",
    "                else:\n",
    "                    value -= masking_value\n",
    "                    second_player_taken_places += 1\n",
    "\n",
    "            bit <<= 1\n",
    "    \n",
    "    number_of_taken_places = first_player_taken_places + second_player_taken_places\n",
    "    # location, color_flip = move\n",
    "    # pieces_flipped = count_binary_1s(color_flip)\n",
    "    # if location & color_flip == location:\n",
    "    #     pieces_flipped -= 1\n",
    "\n",
    "\n",
    "    if number_of_taken_places >= 55:\n",
    "        value += 30 * (first_player_taken_places - second_player_taken_places)\n",
    "    else:\n",
    "        value -= 0.1 * (64 - number_of_taken_places) * (first_player_taken_places - second_player_taken_places)\n",
    "        # value -= 10 * (first_player_taken_places - second_player_taken_places)\n",
    "        \n",
    "    if first_player_taken_places == 0:\n",
    "        return float('-inf')\n",
    "    elif second_player_taken_places == 0:\n",
    "        return float('inf')\n",
    "\n",
    "    first_player_options_number = len(get_available_moves(1, board))\n",
    "    second_player_options_number = len(get_available_moves(0, board))\n",
    "    value += number_of_taken_places / 4 * (first_player_options_number - second_player_options_number)\n",
    "\n",
    "    taken_0_places = taken_places ^ colors\n",
    "    player_row_col = 0\n",
    "    first_row1 = colors & first_row\n",
    "    last_row1 = colors & last_row\n",
    "    first_col1 = colors & first_col\n",
    "    last_col1 = colors & last_col\n",
    "\n",
    "    first_row0 = taken_0_places & first_row\n",
    "    last_row0 = taken_0_places & last_row\n",
    "    first_col0 = taken_0_places & first_col\n",
    "    last_col0 = taken_0_places & last_col\n",
    "    x = 20\n",
    "    if first_row1 and not first_row0:\n",
    "        player_row_col += x\n",
    "    if first_row0 and not first_row1:\n",
    "        player_row_col -= x\n",
    "\n",
    "\n",
    "    if last_row1 and not last_row0:\n",
    "        player_row_col += x\n",
    "    if last_row0 and not last_row1:\n",
    "        player_row_col -= x\n",
    "\n",
    "\n",
    "    if first_col1 and not first_col0:\n",
    "        player_row_col += x\n",
    "    if first_col0 and not first_col1:\n",
    "        player_row_col -= x \n",
    "\n",
    "\n",
    "    if last_col1 and not last_col0:\n",
    "        player_row_col += x\n",
    "    if last_col0 and not last_col1:\n",
    "        player_row_col -= x  \n",
    "    value += player_row_col\n",
    "\n",
    "    # y = 15 \n",
    "    # if first_col0 > first_col1:\n",
    "    #     value -= y\n",
    "    # if first_col0 < first_col1:\n",
    "    #     value += y\n",
    "\n",
    "    # if first_row0 > first_row1:\n",
    "    #     value -= y\n",
    "    # if first_row0 < first_row1:\n",
    "    #     value += y\n",
    "\n",
    "    # if last_col0 > last_col1:\n",
    "    #     value -= y\n",
    "    # if last_col0 < last_col1:\n",
    "    #     value += y\n",
    "\n",
    "    # if last_row0 > last_row1:\n",
    "    #     value -= y\n",
    "    # if last_row0 < last_row1:\n",
    "    #     value += y\n",
    "\n",
    "\n",
    "    lists_board = translate_bin_board_to_01none_lists(board) ######  sandwich\n",
    "    strips = []\n",
    "    for i in range(SIZE):\n",
    "        row_strip = []\n",
    "        col_strip = []\n",
    "        for j in range(SIZE):\n",
    "            row_strip.append(lists_board[i][j])\n",
    "            col_strip.append(lists_board[j][i])\n",
    "        # maybe check if the strip is full\n",
    "        strips.append(row_strip)\n",
    "        strips.append(col_strip)\n",
    "\n",
    "    for i in range(3, SIZE):\n",
    "        left_diagonal_strip = []  # like /\n",
    "        right_diagonal_strip = []  # like \\\n",
    "        for j in range(i + 1):\n",
    "            left_diagonal_strip.append(lists_board[j][i - j])\n",
    "            right_diagonal_strip.append(lists_board[j][(SIZE - i - 1) + j])\n",
    "        # maybe check if the strip is full\n",
    "        strips.append(left_diagonal_strip)\n",
    "        strips.append(right_diagonal_strip)\n",
    "\n",
    "    for strip in strips:\n",
    "        sandwich_bread = None\n",
    "        sandwich_content = None\n",
    "        bread_start_index = 0\n",
    "        content_start_index = 0\n",
    "        should_add_bread_end = False\n",
    "\n",
    "        for i in range(len(strip)):\n",
    "            color = strip[i]\n",
    "\n",
    "            if color is None:\n",
    "                if should_add_bread_end and i != len(strip) - 1:\n",
    "                    bread_end_size = i - content_start_index\n",
    "                    value += 2 * bread_end_size * (1 if sandwich_bread else -1)\n",
    "                    should_add_bread_end = False\n",
    "                sandwich_bread = None\n",
    "                sandwich_content = None\n",
    "                continue\n",
    "\n",
    "            if sandwich_bread is None:\n",
    "                sandwich_bread = color\n",
    "                bread_start_index = i\n",
    "\n",
    "            else:\n",
    "                if color != sandwich_bread:\n",
    "                    if sandwich_content is None:\n",
    "                        sandwich_content = color\n",
    "                        content_start_index = i\n",
    "\n",
    "                elif sandwich_content is not None:  # a sandwich is ready\n",
    "                    if should_add_bread_end and i != len(strip) - 1:\n",
    "                        bread_end_size = i - content_start_index\n",
    "                    ####    value += 2 * bread_end_size * (1 if sandwich_bread else -1)\n",
    "                        should_add_bread_end = False\n",
    "                        \n",
    "                    # score sandwich: TODO\n",
    "                    start_bread_size = content_start_index - bread_start_index\n",
    "                    content_size = i - content_start_index\n",
    "                    base_score = max(start_bread_size * 2 - content_size, 3)\n",
    "                    # if bread_start_index == 0 or i == SIZE - 1: \n",
    "                    # else:\n",
    "                   ### value += base_score * (1 if sandwich_content else -1)\n",
    "\n",
    "                    should_add_bread_end = True\n",
    "\n",
    "                        \n",
    "\n",
    "                    sandwich_bread = sandwich_content\n",
    "                    bread_start_index = content_start_index\n",
    "                    content_start_index = i\n",
    "            should_add_bread_end = False\n",
    "\n",
    "    return value\n",
    "\n",
    "\n",
    "########################################################################################################################\n",
    "\n",
    "best_move_of_last_search = None\n",
    "\n",
    "\n",
    "def minimax(board, depth, maximizing_player: bool, distance_from_root=0, alpha=-float('inf'), beta=float('inf'), last_played_move = None,\n",
    "            had_moves_last_turn=True, update_current_best_move_dict=None):\n",
    "\n",
    "    available_moves = get_available_moves(1 if maximizing_player else 0, board)\n",
    "    if distance_from_root == 0:\n",
    "        available_moves = order_moves(available_moves, best_move_of_last_search)\n",
    "    else:\n",
    "        available_moves = order_moves(available_moves, None)\n",
    "\n",
    "    if len(available_moves) == 0:\n",
    "        if not had_moves_last_turn:\n",
    "            return None, evaluate_board(board, last_played_move)\n",
    "        return minimax(board, depth, not maximizing_player, distance_from_root + 1, alpha, beta, last_played_move, False)\n",
    "\n",
    "    if maximizing_player:\n",
    "        best_value = -float('inf')\n",
    "        best_move = None\n",
    "\n",
    "        for move in available_moves:\n",
    "            board = apply_move(board, move)\n",
    "            if depth == 1:\n",
    "                child_value = evaluate_board(board, move)\n",
    "            else:\n",
    "                _, child_value, = minimax(board, depth - 1, False, distance_from_root + 1, alpha, beta, last_played_move)\n",
    "\n",
    "            board = apply_move(board, move)  # reverse board to previous state\n",
    "\n",
    "            if child_value > best_value:\n",
    "                best_value = child_value\n",
    "                best_move = move\n",
    "                if distance_from_root == 0 and update_current_best_move_dict is not None:\n",
    "                    update_current_best_move_dict[0] = move\n",
    "\n",
    "            alpha = max(alpha, best_value)\n",
    "            if beta <= alpha:\n",
    "                break\n",
    "\n",
    "    else:\n",
    "        best_value = float('inf')\n",
    "        best_move = None\n",
    "        for move in available_moves:\n",
    "            board = apply_move(board, move)\n",
    "            if depth == 1:\n",
    "                child_value = evaluate_board(board, move)\n",
    "            else:\n",
    "                _, child_value = minimax(board, depth - 1, True, distance_from_root + 1, alpha, beta, last_played_move)\n",
    "            board = apply_move(board, move)  # reverse board to previous state\n",
    "\n",
    "            if child_value < best_value:\n",
    "                best_value = child_value\n",
    "                best_move = move\n",
    "                if distance_from_root == 0 and update_current_best_move_dict is not None:\n",
    "                    update_current_best_move_dict[0] = move\n",
    "\n",
    "            beta = min(beta, best_value)\n",
    "            if beta <= alpha:\n",
    "                break\n",
    "\n",
    "    return best_move, best_value\n",
    "\n",
    "\n",
    "def iterative_deepening_minimax(board, me, max_time, return_dict):\n",
    "    start_time = time.time()\n",
    "\n",
    "    global best_move_of_last_search\n",
    "\n",
    "    depth = 1\n",
    "    while True:\n",
    "        best_move, _ = minimax(board, depth, me, update_current_best_move_dict=return_dict)\n",
    "\n",
    "        if time.time() - start_time < max_time:\n",
    "            best_move_of_last_search = best_move\n",
    "            return_dict[1] = best_move\n",
    "        else:\n",
    "            break\n",
    "\n",
    "        depth += 2\n",
    "\n",
    "\n",
    "########################################################################################################################\n",
    "def get_move(me: int, board: list[list[int]]) -> tuple[int, int]:\n",
    "    bin_board = translate_to_bin(board)\n",
    "    me = me - 1\n",
    "\n",
    "    # Set the maximum time limit for minimax\n",
    "    max_time = 0.48  # when 0.5 seconds reached, we loose automatically\n",
    "\n",
    "    # Initialize a return dictionary to collect the best move\n",
    "    return_dict = multiprocessing.Manager().dict()\n",
    "\n",
    "    # Create a process to run minimax with a time limit\n",
    "    process = multiprocessing.Process(target=iterative_deepening_minimax, args=(bin_board, me, max_time, return_dict))\n",
    "    process.start()\n",
    "    process.join(timeout=max_time)\n",
    "\n",
    "    # If the process is still running, terminate it\n",
    "    if process.is_alive():\n",
    "        process.terminate()\n",
    "        process.join()\n",
    "\n",
    "    best_move = return_dict[0]  # 0 for middle search best move, 1 for last search best move\n",
    "    # TODO if using return_dict[1], you can delete the dictionary parameter in the minimax function.\n",
    "    return translate_bin_move_to_row_col(best_move)\n",
    "\n",
    "\n",
    "# Nice function for playing against ourselves\n",
    "# Sandwich maybe with bits\n",
    "# Add evaluation for stable disks that cannot be flipped\n",
    "# When there is stable for example a corner or an e\n",
    "# Density function\n",
    "\n",
    "\n",
    "def main(*_):\n",
    "    # t1 = time.perf_counter()\n",
    "    # minimax(STARTING_BIN_BOARD, 9, True)\n",
    "    # t2 = time.perf_counter()\n",
    "    # print(t2 - t1)\n",
    "\n",
    "    return_dict = multiprocessing.Manager().dict()\n",
    "    process = multiprocessing.Process(target=iterative_deepening_minimax,\n",
    "                                      args=(STARTING_BIN_BOARD, 1, 10, return_dict))\n",
    "\n",
    "    process.start()\n",
    "    process.join(timeout=10)\n",
    "    if process.is_alive():\n",
    "        process.terminate()\n",
    "        process.join()\n",
    "    # iterative_deepening_minimax(STARTING_BIN_BOARD, 0.5, 1, return_dict)\n",
    "\n",
    "    print(return_dict.get(0))\n",
    "\n",
    "\n",
    "if __name__ == '__main__':\n",
    "    main()\n",
    "    # get_move(1, STARTING_BOARD)\n",
    "    \n",
    "# Why for this code as black against stable it gives him the corner even when corner value is really high but not when its zero?\n",
    "# Does is mask correctly for the other player?\n",
    "# Something is weird"
   ]
  },
  {
   "cell_type": "code",
   "execution_count": 68,
   "id": "a5e12f0f-57d8-4de7-9dfd-7117683590b1",
   "metadata": {
    "tags": []
   },
   "outputs": [
    {
     "data": {
      "text/plain": [
       "0"
      ]
     },
     "execution_count": 68,
     "metadata": {},
     "output_type": "execute_result"
    }
   ],
   "source": [
    "evaluate_board((2**64, 2**64), 1)"
   ]
  },
  {
   "cell_type": "code",
   "execution_count": 27,
   "id": "eac1281e-402c-4e48-9ad6-510905ddb6fb",
   "metadata": {
    "tags": []
   },
   "outputs": [
    {
     "ename": "SyntaxError",
     "evalue": "unmatched ')' (2116756430.py, line 1)",
     "output_type": "error",
     "traceback": [
      "\u001b[1;36m  Cell \u001b[1;32mIn[27], line 1\u001b[1;36m\u001b[0m\n\u001b[1;33m    evaluate_board(bin(2**64)-3, bin(2**64)-10) 1)\u001b[0m\n\u001b[1;37m                                                 ^\u001b[0m\n\u001b[1;31mSyntaxError\u001b[0m\u001b[1;31m:\u001b[0m unmatched ')'\n"
     ]
    }
   ],
   "source": [
    "evaluate_board(bin(2**64)-3, bin(2**64)-10) 1)"
   ]
  },
  {
   "cell_type": "code",
   "execution_count": null,
   "id": "1dbb2045-869f-455a-9456-6be86fc2b285",
   "metadata": {},
   "outputs": [],
   "source": [
    "translate_to_bin([1] )"
   ]
  },
  {
   "cell_type": "code",
   "execution_count": 36,
   "id": "0687535a-d998-47eb-a789-43ec297304d0",
   "metadata": {
    "tags": []
   },
   "outputs": [
    {
     "data": {
      "text/plain": [
       "[[0, 1, 1, 1, 1, 1, 1, 1],\n",
       " [0, 1, 1, 1, 1, 1, 1, 1],\n",
       " [0, 1, 1, 1, 1, 1, 1, 1],\n",
       " [0, 1, 1, 1, 1, 1, 1, 1],\n",
       " [0, 1, 1, 1, 1, 1, 1, 1],\n",
       " [0, 1, 1, 1, 1, 1, 1, 1],\n",
       " [0, 1, 1, 1, 1, 1, 1, 1],\n",
       " [0, 1, 1, 1, 1, 1, 1, 1]]"
      ]
     },
     "execution_count": 36,
     "metadata": {},
     "output_type": "execute_result"
    }
   ],
   "source": [
    "a = [[1] * 8] * 8\n",
    "a[0][0] = 0\n",
    "a"
   ]
  },
  {
   "cell_type": "code",
   "execution_count": 58,
   "id": "dc14eaab-a539-4c58-b19a-8f02b7bdfe28",
   "metadata": {
    "tags": []
   },
   "outputs": [
    {
     "data": {
      "text/plain": [
       "66"
      ]
     },
     "execution_count": 58,
     "metadata": {},
     "output_type": "execute_result"
    }
   ],
   "source": [
    "len(bin(2**64-3))"
   ]
  },
  {
   "cell_type": "code",
   "execution_count": 62,
   "id": "c05cddde-72e5-49db-8046-9d3a81b9a659",
   "metadata": {
    "tags": []
   },
   "outputs": [
    {
     "data": {
      "text/plain": [
       "119940"
      ]
     },
     "execution_count": 62,
     "metadata": {},
     "output_type": "execute_result"
    }
   ],
   "source": [
    "evaluate_board((2**64 - 1, 2**64 - 1), 1)"
   ]
  },
  {
   "cell_type": "code",
   "execution_count": 18,
   "id": "ec94739e-580f-49c2-b678-4d7c9fa12391",
   "metadata": {
    "tags": []
   },
   "outputs": [
    {
     "data": {
      "text/plain": [
       "'0b1100000011000000000000000000000000000'"
      ]
     },
     "execution_count": 18,
     "metadata": {},
     "output_type": "execute_result"
    }
   ],
   "source": [
    "translate_to_bin()"
   ]
  },
  {
   "cell_type": "code",
   "execution_count": 15,
   "id": "4cb6463f-8ad2-4ce4-81e2-c270623105f8",
   "metadata": {
    "tags": []
   },
   "outputs": [
    {
     "ename": "TypeError",
     "evalue": "'int' object is not subscriptable",
     "output_type": "error",
     "traceback": [
      "\u001b[1;31m---------------------------------------------------------------------------\u001b[0m",
      "\u001b[1;31mTypeError\u001b[0m                                 Traceback (most recent call last)",
      "Cell \u001b[1;32mIn[15], line 1\u001b[0m\n\u001b[1;32m----> 1\u001b[0m \u001b[43mtranslate_to_bin\u001b[49m\u001b[43m(\u001b[49m\u001b[43mSTARTING_BIN_BOARD\u001b[49m\u001b[43m)\u001b[49m\n",
      "Cell \u001b[1;32mIn[2], line 83\u001b[0m, in \u001b[0;36mtranslate_to_bin\u001b[1;34m(board)\u001b[0m\n\u001b[0;32m     81\u001b[0m \u001b[38;5;28;01mfor\u001b[39;00m row \u001b[38;5;129;01min\u001b[39;00m \u001b[38;5;28mrange\u001b[39m(SIZE):\n\u001b[0;32m     82\u001b[0m     \u001b[38;5;28;01mfor\u001b[39;00m col \u001b[38;5;129;01min\u001b[39;00m \u001b[38;5;28mrange\u001b[39m(SIZE):\n\u001b[1;32m---> 83\u001b[0m         value \u001b[38;5;241m=\u001b[39m \u001b[43mboard\u001b[49m\u001b[43m[\u001b[49m\u001b[43mrow\u001b[49m\u001b[43m]\u001b[49m\u001b[43m[\u001b[49m\u001b[43mcol\u001b[49m\u001b[43m]\u001b[49m\n\u001b[0;32m     84\u001b[0m         \u001b[38;5;28;01mif\u001b[39;00m value \u001b[38;5;241m!=\u001b[39m \u001b[38;5;241m0\u001b[39m:\n\u001b[0;32m     85\u001b[0m             taken_places \u001b[38;5;241m|\u001b[39m\u001b[38;5;241m=\u001b[39m bit\n",
      "\u001b[1;31mTypeError\u001b[0m: 'int' object is not subscriptable"
     ]
    }
   ],
   "source": [
    "translate_to_bin(STARTING_BIN_BOARD)"
   ]
  },
  {
   "cell_type": "code",
   "execution_count": 48,
   "id": "0149b127-1616-40a4-8c00-e265f28d635d",
   "metadata": {
    "tags": []
   },
   "outputs": [
    {
     "name": "stdout",
     "output_type": "stream",
     "text": [
      "36893488147419103228 36893488147419103229\n"
     ]
    }
   ],
   "source": [
    "a, b = bin(2**65 - 4), bin(2**65 - 3)\n",
    "print(int(a,2), int(b,2))"
   ]
  },
  {
   "cell_type": "code",
   "execution_count": 52,
   "id": "7eef1390-6b77-499f-a2ed-25b210f01024",
   "metadata": {
    "tags": []
   },
   "outputs": [
    {
     "name": "stdout",
     "output_type": "stream",
     "text": [
      "0b11111111111111111111111111111111111111111111111111111111111111100\n"
     ]
    }
   ],
   "source": [
    "a, b = 2**65 - 4, 2**65 - 3\n",
    "print(bin(a&b))"
   ]
  },
  {
   "cell_type": "code",
   "execution_count": null,
   "id": "a92560b2-62fb-4e6d-b43c-09a42957d826",
   "metadata": {},
   "outputs": [],
   "source": [
    "if _name_ == '_main_':\n",
    "    main()\n",
    "    \n",
    "# Nice function for playing against ourselves\n",
    "# Add evaluation for stable disks that cannot be flipped\n",
    "# When there is stable for example a corner or an e\n",
    "# Density function\n",
    "# Add an array of tracking times for each part of the code"
   ]
  },
  {
   "cell_type": "code",
   "execution_count": 103,
   "id": "c9371544-cb47-41d3-af99-f830d882f06d",
   "metadata": {
    "tags": []
   },
   "outputs": [],
   "source": [
    "def reversi_to_chess_board(reversi_board):\n",
    "    chess_board = chess.Board(fen='8/8/8/8/8/8/8/8')\n",
    "    for i in range(len(reversi_board)):\n",
    "        for j in range(len(reversi_board[i])):\n",
    "            if reversi_board[i][j] == 1:\n",
    "                chess_board.set_piece_at(i * 8 + j, chess.Piece(chess.PAWN, 0))\n",
    "            elif reversi_board[i][j] == 2:\n",
    "                chess_board.set_piece_at(i * 8 + j, chess.Piece(chess.PAWN, 1))\n",
    "\n",
    "    return chess_board"
   ]
  },
  {
   "cell_type": "code",
   "execution_count": 143,
   "id": "2afeacc7-3560-4a61-941d-51941c86e5c1",
   "metadata": {
    "tags": []
   },
   "outputs": [],
   "source": [
    "def square_to_move(square):\n",
    "    return (ord(square[0].lower()) -97, int(square[1]) - 1)"
   ]
  },
  {
   "cell_type": "code",
   "execution_count": 147,
   "id": "ca5dc373-d0bd-4941-9687-2fd57aa2d255",
   "metadata": {
    "tags": []
   },
   "outputs": [],
   "source": [
    "def bot_move(board, me, depth):\n",
    "    best_move, best_value = get_move(me, board)\n",
    "    position_bit, colors_flip = calculate_move(me, move, board)\n",
    "    board = apply_move(board, (position_bit, colors_flip))\n",
    "    return board, best_move, best_value\n",
    "\n",
    "def human_move(board, me):\n",
    "    move = input()\n",
    "    move = square_to_move(move)\n",
    "    position_bit, colors_flip = calculate_move(me, move, translate_to_bin(board))\n",
    "    if (colors_flip & (~position_bit)) != 0:  # equivalent to \"is valid move?\"\n",
    "        apply_move(board, (position_bit, colors_flip))\n",
    "        return board\n",
    "    else:\n",
    "        print('Illegal move')\n",
    "        print()\n",
    "        return human_move(board, me)"
   ]
  },
  {
   "cell_type": "code",
   "execution_count": 150,
   "id": "0e4af2e3-9727-489a-b1d4-854f429c4300",
   "metadata": {
    "tags": []
   },
   "outputs": [
    {
     "data": {
      "image/svg+xml": [
       "<svg xmlns=\"http://www.w3.org/2000/svg\" xmlns:xlink=\"http://www.w3.org/1999/xlink\" version=\"1.2\" baseProfile=\"tiny\" viewBox=\"0 0 390 390\" width=\"390\" height=\"390\"><desc><pre>. . . . . . . .\n",
       ". . . . . . . .\n",
       ". . . . . . . .\n",
       ". . . P p . . .\n",
       ". . . p P . . .\n",
       ". . . . . . . .\n",
       ". . . . . p . .\n",
       "p . . . . . . .</pre></desc><defs><g id=\"white-pawn\" class=\"white pawn\"><path d=\"M22.5 9c-2.21 0-4 1.79-4 4 0 .89.29 1.71.78 2.38C17.33 16.5 16 18.59 16 21c0 2.03.94 3.84 2.41 5.03-3 1.06-7.41 5.55-7.41 13.47h23c0-7.92-4.41-12.41-7.41-13.47 1.47-1.19 2.41-3 2.41-5.03 0-2.41-1.33-4.5-3.28-5.62.49-.67.78-1.49.78-2.38 0-2.21-1.79-4-4-4z\" fill=\"#fff\" stroke=\"#000\" stroke-width=\"1.5\" stroke-linecap=\"round\" /></g><g id=\"black-pawn\" class=\"black pawn\"><path d=\"M22.5 9c-2.21 0-4 1.79-4 4 0 .89.29 1.71.78 2.38C17.33 16.5 16 18.59 16 21c0 2.03.94 3.84 2.41 5.03-3 1.06-7.41 5.55-7.41 13.47h23c0-7.92-4.41-12.41-7.41-13.47 1.47-1.19 2.41-3 2.41-5.03 0-2.41-1.33-4.5-3.28-5.62.49-.67.78-1.49.78-2.38 0-2.21-1.79-4-4-4z\" fill=\"#000\" stroke=\"#000\" stroke-width=\"1.5\" stroke-linecap=\"round\" /></g></defs><rect x=\"0\" y=\"0\" width=\"390\" height=\"390\" fill=\"#212121\" /><g transform=\"translate(20, 0) scale(0.75, 0.75)\" fill=\"#e5e5e5\" stroke=\"#e5e5e5\"><path d=\"M23.328 10.016q-1.742 0-2.414.398-.672.398-.672 1.36 0 .765.5 1.218.508.445 1.375.445 1.196 0 1.914-.843.727-.852.727-2.258v-.32zm2.867-.594v4.992h-1.437v-1.328q-.492.797-1.227 1.18-.734.375-1.797.375-1.343 0-2.14-.75-.79-.758-.79-2.024 0-1.476.985-2.226.992-.75 2.953-.75h2.016V8.75q0-.992-.656-1.531-.649-.547-1.829-.547-.75 0-1.46.18-.711.18-1.368.539V6.062q.79-.304 1.532-.453.742-.156 1.445-.156 1.898 0 2.836.984.937.985.937 2.985z\" /></g><g transform=\"translate(20, 375) scale(0.75, 0.75)\" fill=\"#e5e5e5\" stroke=\"#e5e5e5\"><path d=\"M23.328 10.016q-1.742 0-2.414.398-.672.398-.672 1.36 0 .765.5 1.218.508.445 1.375.445 1.196 0 1.914-.843.727-.852.727-2.258v-.32zm2.867-.594v4.992h-1.437v-1.328q-.492.797-1.227 1.18-.734.375-1.797.375-1.343 0-2.14-.75-.79-.758-.79-2.024 0-1.476.985-2.226.992-.75 2.953-.75h2.016V8.75q0-.992-.656-1.531-.649-.547-1.829-.547-.75 0-1.46.18-.711.18-1.368.539V6.062q.79-.304 1.532-.453.742-.156 1.445-.156 1.898 0 2.836.984.937.985.937 2.985z\" /></g><g transform=\"translate(65, 0) scale(0.75, 0.75)\" fill=\"#e5e5e5\" stroke=\"#e5e5e5\"><path d=\"M24.922 10.047q0-1.586-.656-2.485-.649-.906-1.79-.906-1.14 0-1.796.906-.649.899-.649 2.485 0 1.586.649 2.492.656.898 1.797.898 1.14 0 1.789-.898.656-.906.656-2.492zm-4.89-3.055q.452-.781 1.14-1.156.695-.383 1.656-.383 1.594 0 2.586 1.266 1 1.265 1 3.328 0 2.062-1 3.328-.992 1.266-2.586 1.266-.96 0-1.656-.375-.688-.383-1.14-1.164v1.312h-1.446V2.258h1.445z\" /></g><g transform=\"translate(65, 375) scale(0.75, 0.75)\" fill=\"#e5e5e5\" stroke=\"#e5e5e5\"><path d=\"M24.922 10.047q0-1.586-.656-2.485-.649-.906-1.79-.906-1.14 0-1.796.906-.649.899-.649 2.485 0 1.586.649 2.492.656.898 1.797.898 1.14 0 1.789-.898.656-.906.656-2.492zm-4.89-3.055q.452-.781 1.14-1.156.695-.383 1.656-.383 1.594 0 2.586 1.266 1 1.265 1 3.328 0 2.062-1 3.328-.992 1.266-2.586 1.266-.96 0-1.656-.375-.688-.383-1.14-1.164v1.312h-1.446V2.258h1.445z\" /></g><g transform=\"translate(110, 0) scale(0.75, 0.75)\" fill=\"#e5e5e5\" stroke=\"#e5e5e5\"><path d=\"M25.96 6v1.344q-.608-.336-1.226-.5-.609-.172-1.234-.172-1.398 0-2.172.89-.773.883-.773 2.485 0 1.601.773 2.492.774.883 2.172.883.625 0 1.234-.164.618-.172 1.227-.508v1.328q-.602.281-1.25.422-.64.14-1.367.14-1.977 0-3.14-1.242-1.165-1.242-1.165-3.351 0-2.14 1.172-3.367 1.18-1.227 3.227-1.227.664 0 1.296.14.633.134 1.227.407z\" /></g><g transform=\"translate(110, 375) scale(0.75, 0.75)\" fill=\"#e5e5e5\" stroke=\"#e5e5e5\"><path d=\"M25.96 6v1.344q-.608-.336-1.226-.5-.609-.172-1.234-.172-1.398 0-2.172.89-.773.883-.773 2.485 0 1.601.773 2.492.774.883 2.172.883.625 0 1.234-.164.618-.172 1.227-.508v1.328q-.602.281-1.25.422-.64.14-1.367.14-1.977 0-3.14-1.242-1.165-1.242-1.165-3.351 0-2.14 1.172-3.367 1.18-1.227 3.227-1.227.664 0 1.296.14.633.134 1.227.407z\" /></g><g transform=\"translate(155, 0) scale(0.75, 0.75)\" fill=\"#e5e5e5\" stroke=\"#e5e5e5\"><path d=\"M24.973 6.992V2.258h1.437v12.156h-1.437v-1.312q-.453.78-1.149 1.164-.687.375-1.656.375-1.586 0-2.586-1.266-.992-1.266-.992-3.328 0-2.063.992-3.328 1-1.266 2.586-1.266.969 0 1.656.383.696.375 1.149 1.156zm-4.899 3.055q0 1.586.649 2.492.656.898 1.797.898 1.14 0 1.796-.898.657-.906.657-2.492 0-1.586-.657-2.485-.656-.906-1.796-.906-1.141 0-1.797.906-.649.899-.649 2.485z\" /></g><g transform=\"translate(155, 375) scale(0.75, 0.75)\" fill=\"#e5e5e5\" stroke=\"#e5e5e5\"><path d=\"M24.973 6.992V2.258h1.437v12.156h-1.437v-1.312q-.453.78-1.149 1.164-.687.375-1.656.375-1.586 0-2.586-1.266-.992-1.266-.992-3.328 0-2.063.992-3.328 1-1.266 2.586-1.266.969 0 1.656.383.696.375 1.149 1.156zm-4.899 3.055q0 1.586.649 2.492.656.898 1.797.898 1.14 0 1.796-.898.657-.906.657-2.492 0-1.586-.657-2.485-.656-.906-1.796-.906-1.141 0-1.797.906-.649.899-.649 2.485z\" /></g><g transform=\"translate(200, 0) scale(0.75, 0.75)\" fill=\"#e5e5e5\" stroke=\"#e5e5e5\"><path d=\"M26.555 9.68v.703h-6.61q.094 1.484.89 2.265.806.774 2.235.774.828 0 1.602-.203.781-.203 1.547-.61v1.36q-.774.328-1.586.5-.813.172-1.649.172-2.093 0-3.32-1.22-1.219-1.218-1.219-3.296 0-2.148 1.157-3.406 1.164-1.266 3.132-1.266 1.766 0 2.79 1.14 1.03 1.134 1.03 3.087zm-1.438-.422q-.015-1.18-.664-1.883-.64-.703-1.703-.703-1.203 0-1.93.68-.718.68-.828 1.914z\" /></g><g transform=\"translate(200, 375) scale(0.75, 0.75)\" fill=\"#e5e5e5\" stroke=\"#e5e5e5\"><path d=\"M26.555 9.68v.703h-6.61q.094 1.484.89 2.265.806.774 2.235.774.828 0 1.602-.203.781-.203 1.547-.61v1.36q-.774.328-1.586.5-.813.172-1.649.172-2.093 0-3.32-1.22-1.219-1.218-1.219-3.296 0-2.148 1.157-3.406 1.164-1.266 3.132-1.266 1.766 0 2.79 1.14 1.03 1.134 1.03 3.087zm-1.438-.422q-.015-1.18-.664-1.883-.64-.703-1.703-.703-1.203 0-1.93.68-.718.68-.828 1.914z\" /></g><g transform=\"translate(245, 0) scale(0.75, 0.75)\" fill=\"#e5e5e5\" stroke=\"#e5e5e5\"><path d=\"M25.285 2.258v1.195H23.91q-.773 0-1.078.313-.297.312-.297 1.125v.773h2.367v1.117h-2.367v7.633H21.09V6.781h-1.375V5.664h1.375v-.61q0-1.46.68-2.124.68-.672 2.156-.672z\" /></g><g transform=\"translate(245, 375) scale(0.75, 0.75)\" fill=\"#e5e5e5\" stroke=\"#e5e5e5\"><path d=\"M25.285 2.258v1.195H23.91q-.773 0-1.078.313-.297.312-.297 1.125v.773h2.367v1.117h-2.367v7.633H21.09V6.781h-1.375V5.664h1.375v-.61q0-1.46.68-2.124.68-.672 2.156-.672z\" /></g><g transform=\"translate(290, 0) scale(0.75, 0.75)\" fill=\"#e5e5e5\" stroke=\"#e5e5e5\"><path d=\"M24.973 9.937q0-1.562-.649-2.421-.64-.86-1.804-.86-1.157 0-1.805.86-.64.859-.64 2.421 0 1.555.64 2.415.648.859 1.805.859 1.164 0 1.804-.86.649-.859.649-2.414zm1.437 3.391q0 2.234-.992 3.32-.992 1.094-3.04 1.094-.757 0-1.429-.117-.672-.11-1.304-.344v-1.398q.632.344 1.25.508.617.164 1.257.164 1.414 0 2.118-.743.703-.734.703-2.226v-.711q-.446.773-1.141 1.156-.695.383-1.664.383-1.61 0-2.594-1.227-.984-1.226-.984-3.25 0-2.03.984-3.257.985-1.227 2.594-1.227.969 0 1.664.383t1.14 1.156V5.664h1.438z\" /></g><g transform=\"translate(290, 375) scale(0.75, 0.75)\" fill=\"#e5e5e5\" stroke=\"#e5e5e5\"><path d=\"M24.973 9.937q0-1.562-.649-2.421-.64-.86-1.804-.86-1.157 0-1.805.86-.64.859-.64 2.421 0 1.555.64 2.415.648.859 1.805.859 1.164 0 1.804-.86.649-.859.649-2.414zm1.437 3.391q0 2.234-.992 3.32-.992 1.094-3.04 1.094-.757 0-1.429-.117-.672-.11-1.304-.344v-1.398q.632.344 1.25.508.617.164 1.257.164 1.414 0 2.118-.743.703-.734.703-2.226v-.711q-.446.773-1.141 1.156-.695.383-1.664.383-1.61 0-2.594-1.227-.984-1.226-.984-3.25 0-2.03.984-3.257.985-1.227 2.594-1.227.969 0 1.664.383t1.14 1.156V5.664h1.438z\" /></g><g transform=\"translate(335, 0) scale(0.75, 0.75)\" fill=\"#e5e5e5\" stroke=\"#e5e5e5\"><path d=\"M26.164 9.133v5.281h-1.437V9.18q0-1.243-.485-1.86-.484-.617-1.453-.617-1.164 0-1.836.742-.672.742-.672 2.024v4.945h-1.445V2.258h1.445v4.765q.516-.789 1.211-1.18.703-.39 1.617-.39 1.508 0 2.282.938.773.93.773 2.742z\" /></g><g transform=\"translate(335, 375) scale(0.75, 0.75)\" fill=\"#e5e5e5\" stroke=\"#e5e5e5\"><path d=\"M26.164 9.133v5.281h-1.437V9.18q0-1.243-.485-1.86-.484-.617-1.453-.617-1.164 0-1.836.742-.672.742-.672 2.024v4.945h-1.445V2.258h1.445v4.765q.516-.789 1.211-1.18.703-.39 1.617-.39 1.508 0 2.282.938.773.93.773 2.742z\" /></g><g transform=\"translate(0, 335) scale(0.75, 0.75)\" fill=\"#e5e5e5\" stroke=\"#e5e5e5\"><path d=\"M6.754 26.996h2.578v-8.898l-2.805.562v-1.437l2.79-.563h1.578v10.336h2.578v1.328h-6.72z\" /></g><g transform=\"translate(375, 335) scale(0.75, 0.75)\" fill=\"#e5e5e5\" stroke=\"#e5e5e5\"><path d=\"M6.754 26.996h2.578v-8.898l-2.805.562v-1.437l2.79-.563h1.578v10.336h2.578v1.328h-6.72z\" /></g><g transform=\"translate(0, 290) scale(0.75, 0.75)\" fill=\"#e5e5e5\" stroke=\"#e5e5e5\"><path d=\"M8.195 26.996h5.508v1.328H6.297v-1.328q.898-.93 2.445-2.492 1.555-1.57 1.953-2.024.758-.851 1.055-1.437.305-.594.305-1.164 0-.93-.657-1.516-.648-.586-1.695-.586-.742 0-1.57.258-.82.258-1.758.781v-1.593q.953-.383 1.781-.578.828-.196 1.516-.196 1.812 0 2.89.906 1.079.907 1.079 2.422 0 .72-.274 1.368-.265.64-.976 1.515-.196.227-1.243 1.313-1.046 1.078-2.953 3.023z\" /></g><g transform=\"translate(375, 290) scale(0.75, 0.75)\" fill=\"#e5e5e5\" stroke=\"#e5e5e5\"><path d=\"M8.195 26.996h5.508v1.328H6.297v-1.328q.898-.93 2.445-2.492 1.555-1.57 1.953-2.024.758-.851 1.055-1.437.305-.594.305-1.164 0-.93-.657-1.516-.648-.586-1.695-.586-.742 0-1.57.258-.82.258-1.758.781v-1.593q.953-.383 1.781-.578.828-.196 1.516-.196 1.812 0 2.89.906 1.079.907 1.079 2.422 0 .72-.274 1.368-.265.64-.976 1.515-.196.227-1.243 1.313-1.046 1.078-2.953 3.023z\" /></g><g transform=\"translate(0, 245) scale(0.75, 0.75)\" fill=\"#e5e5e5\" stroke=\"#e5e5e5\"><path d=\"M11.434 22.035q1.132.242 1.765 1.008.64.766.64 1.89 0 1.727-1.187 2.672-1.187.946-3.375.946-.734 0-1.515-.149-.774-.14-1.602-.43V26.45q.656.383 1.438.578.78.196 1.632.196 1.485 0 2.258-.586.782-.586.782-1.703 0-1.032-.727-1.61-.719-.586-2.008-.586h-1.36v-1.297h1.423q1.164 0 1.78-.46.618-.47.618-1.344 0-.899-.64-1.375-.633-.485-1.82-.485-.65 0-1.391.141-.743.14-1.633.437V16.95q.898-.25 1.68-.375.788-.125 1.484-.125 1.797 0 2.844.82 1.046.813 1.046 2.204 0 .968-.554 1.64-.555.664-1.578.922z\" /></g><g transform=\"translate(375, 245) scale(0.75, 0.75)\" fill=\"#e5e5e5\" stroke=\"#e5e5e5\"><path d=\"M11.434 22.035q1.132.242 1.765 1.008.64.766.64 1.89 0 1.727-1.187 2.672-1.187.946-3.375.946-.734 0-1.515-.149-.774-.14-1.602-.43V26.45q.656.383 1.438.578.78.196 1.632.196 1.485 0 2.258-.586.782-.586.782-1.703 0-1.032-.727-1.61-.719-.586-2.008-.586h-1.36v-1.297h1.423q1.164 0 1.78-.46.618-.47.618-1.344 0-.899-.64-1.375-.633-.485-1.82-.485-.65 0-1.391.141-.743.14-1.633.437V16.95q.898-.25 1.68-.375.788-.125 1.484-.125 1.797 0 2.844.82 1.046.813 1.046 2.204 0 .968-.554 1.64-.555.664-1.578.922z\" /></g><g transform=\"translate(0, 200) scale(0.75, 0.75)\" fill=\"#e5e5e5\" stroke=\"#e5e5e5\"><path d=\"M11.016 18.035L7.03 24.262h3.985zm-.414-1.375h1.984v7.602h1.664v1.312h-1.664v2.75h-1.57v-2.75H5.75v-1.523z\" /></g><g transform=\"translate(375, 200) scale(0.75, 0.75)\" fill=\"#e5e5e5\" stroke=\"#e5e5e5\"><path d=\"M11.016 18.035L7.03 24.262h3.985zm-.414-1.375h1.984v7.602h1.664v1.312h-1.664v2.75h-1.57v-2.75H5.75v-1.523z\" /></g><g transform=\"translate(0, 155) scale(0.75, 0.75)\" fill=\"#e5e5e5\" stroke=\"#e5e5e5\"><path d=\"M6.719 16.66h6.195v1.328h-4.75v2.86q.344-.118.688-.172.343-.063.687-.063 1.953 0 3.094 1.07 1.14 1.07 1.14 2.899 0 1.883-1.171 2.93-1.172 1.039-3.305 1.039-.735 0-1.5-.125-.758-.125-1.57-.375v-1.586q.703.383 1.453.57.75.188 1.586.188 1.351 0 2.14-.711.79-.711.79-1.93 0-1.219-.79-1.93-.789-.71-2.14-.71-.633 0-1.266.14-.625.14-1.281.438z\" /></g><g transform=\"translate(375, 155) scale(0.75, 0.75)\" fill=\"#e5e5e5\" stroke=\"#e5e5e5\"><path d=\"M6.719 16.66h6.195v1.328h-4.75v2.86q.344-.118.688-.172.343-.063.687-.063 1.953 0 3.094 1.07 1.14 1.07 1.14 2.899 0 1.883-1.171 2.93-1.172 1.039-3.305 1.039-.735 0-1.5-.125-.758-.125-1.57-.375v-1.586q.703.383 1.453.57.75.188 1.586.188 1.351 0 2.14-.711.79-.711.79-1.93 0-1.219-.79-1.93-.789-.71-2.14-.71-.633 0-1.266.14-.625.14-1.281.438z\" /></g><g transform=\"translate(0, 110) scale(0.75, 0.75)\" fill=\"#e5e5e5\" stroke=\"#e5e5e5\"><path d=\"M10.137 21.863q-1.063 0-1.688.727-.617.726-.617 1.992 0 1.258.617 1.992.625.727 1.688.727 1.062 0 1.68-.727.624-.734.624-1.992 0-1.266-.625-1.992-.617-.727-1.68-.727zm3.133-4.945v1.437q-.594-.28-1.204-.43-.601-.148-1.195-.148-1.562 0-2.39 1.055-.82 1.055-.938 3.188.46-.68 1.156-1.04.696-.367 1.531-.367 1.758 0 2.774 1.07 1.023 1.063 1.023 2.899 0 1.797-1.062 2.883-1.063 1.086-2.828 1.086-2.024 0-3.094-1.547-1.07-1.555-1.07-4.5 0-2.766 1.312-4.406 1.313-1.649 3.524-1.649.593 0 1.195.117.61.118 1.266.352z\" /></g><g transform=\"translate(375, 110) scale(0.75, 0.75)\" fill=\"#e5e5e5\" stroke=\"#e5e5e5\"><path d=\"M10.137 21.863q-1.063 0-1.688.727-.617.726-.617 1.992 0 1.258.617 1.992.625.727 1.688.727 1.062 0 1.68-.727.624-.734.624-1.992 0-1.266-.625-1.992-.617-.727-1.68-.727zm3.133-4.945v1.437q-.594-.28-1.204-.43-.601-.148-1.195-.148-1.562 0-2.39 1.055-.82 1.055-.938 3.188.46-.68 1.156-1.04.696-.367 1.531-.367 1.758 0 2.774 1.07 1.023 1.063 1.023 2.899 0 1.797-1.062 2.883-1.063 1.086-2.828 1.086-2.024 0-3.094-1.547-1.07-1.555-1.07-4.5 0-2.766 1.312-4.406 1.313-1.649 3.524-1.649.593 0 1.195.117.61.118 1.266.352z\" /></g><g transform=\"translate(0, 65) scale(0.75, 0.75)\" fill=\"#e5e5e5\" stroke=\"#e5e5e5\"><path d=\"M6.25 16.66h7.5v.672L9.516 28.324H7.867l3.985-10.336H6.25z\" /></g><g transform=\"translate(375, 65) scale(0.75, 0.75)\" fill=\"#e5e5e5\" stroke=\"#e5e5e5\"><path d=\"M6.25 16.66h7.5v.672L9.516 28.324H7.867l3.985-10.336H6.25z\" /></g><g transform=\"translate(0, 20) scale(0.75, 0.75)\" fill=\"#e5e5e5\" stroke=\"#e5e5e5\"><path d=\"M10 22.785q-1.125 0-1.773.602-.641.601-.641 1.656t.64 1.656q.649.602 1.774.602t1.773-.602q.649-.61.649-1.656 0-1.055-.649-1.656-.64-.602-1.773-.602zm-1.578-.672q-1.016-.25-1.586-.945-.563-.695-.563-1.695 0-1.399.993-2.211 1-.813 2.734-.813 1.742 0 2.734.813.993.812.993 2.21 0 1-.57 1.696-.563.695-1.571.945 1.14.266 1.773 1.04.641.773.641 1.89 0 1.695-1.04 2.602-1.03.906-2.96.906t-2.969-.906Q6 26.738 6 25.043q0-1.117.64-1.89.641-.774 1.782-1.04zm-.578-2.492q0 .906.562 1.414.57.508 1.594.508 1.016 0 1.586-.508.578-.508.578-1.414 0-.906-.578-1.414-.57-.508-1.586-.508-1.023 0-1.594.508-.562.508-.562 1.414z\" /></g><g transform=\"translate(375, 20) scale(0.75, 0.75)\" fill=\"#e5e5e5\" stroke=\"#e5e5e5\"><path d=\"M10 22.785q-1.125 0-1.773.602-.641.601-.641 1.656t.64 1.656q.649.602 1.774.602t1.773-.602q.649-.61.649-1.656 0-1.055-.649-1.656-.64-.602-1.773-.602zm-1.578-.672q-1.016-.25-1.586-.945-.563-.695-.563-1.695 0-1.399.993-2.211 1-.813 2.734-.813 1.742 0 2.734.813.993.812.993 2.21 0 1-.57 1.696-.563.695-1.571.945 1.14.266 1.773 1.04.641.773.641 1.89 0 1.695-1.04 2.602-1.03.906-2.96.906t-2.969-.906Q6 26.738 6 25.043q0-1.117.64-1.89.641-.774 1.782-1.04zm-.578-2.492q0 .906.562 1.414.57.508 1.594.508 1.016 0 1.586-.508.578-.508.578-1.414 0-.906-.578-1.414-.57-.508-1.586-.508-1.023 0-1.594.508-.562.508-.562 1.414z\" /></g><rect x=\"15\" y=\"330\" width=\"45\" height=\"45\" class=\"square dark a1\" stroke=\"none\" fill=\"#d18b47\" /><rect x=\"60\" y=\"330\" width=\"45\" height=\"45\" class=\"square light b1\" stroke=\"none\" fill=\"#ffce9e\" /><rect x=\"105\" y=\"330\" width=\"45\" height=\"45\" class=\"square dark c1\" stroke=\"none\" fill=\"#d18b47\" /><rect x=\"150\" y=\"330\" width=\"45\" height=\"45\" class=\"square light d1\" stroke=\"none\" fill=\"#ffce9e\" /><rect x=\"195\" y=\"330\" width=\"45\" height=\"45\" class=\"square dark e1\" stroke=\"none\" fill=\"#d18b47\" /><rect x=\"240\" y=\"330\" width=\"45\" height=\"45\" class=\"square light f1\" stroke=\"none\" fill=\"#ffce9e\" /><rect x=\"285\" y=\"330\" width=\"45\" height=\"45\" class=\"square dark g1\" stroke=\"none\" fill=\"#d18b47\" /><rect x=\"330\" y=\"330\" width=\"45\" height=\"45\" class=\"square light h1\" stroke=\"none\" fill=\"#ffce9e\" /><rect x=\"15\" y=\"285\" width=\"45\" height=\"45\" class=\"square light a2\" stroke=\"none\" fill=\"#ffce9e\" /><rect x=\"60\" y=\"285\" width=\"45\" height=\"45\" class=\"square dark b2\" stroke=\"none\" fill=\"#d18b47\" /><rect x=\"105\" y=\"285\" width=\"45\" height=\"45\" class=\"square light c2\" stroke=\"none\" fill=\"#ffce9e\" /><rect x=\"150\" y=\"285\" width=\"45\" height=\"45\" class=\"square dark d2\" stroke=\"none\" fill=\"#d18b47\" /><rect x=\"195\" y=\"285\" width=\"45\" height=\"45\" class=\"square light e2\" stroke=\"none\" fill=\"#ffce9e\" /><rect x=\"240\" y=\"285\" width=\"45\" height=\"45\" class=\"square dark f2\" stroke=\"none\" fill=\"#d18b47\" /><rect x=\"285\" y=\"285\" width=\"45\" height=\"45\" class=\"square light g2\" stroke=\"none\" fill=\"#ffce9e\" /><rect x=\"330\" y=\"285\" width=\"45\" height=\"45\" class=\"square dark h2\" stroke=\"none\" fill=\"#d18b47\" /><rect x=\"15\" y=\"240\" width=\"45\" height=\"45\" class=\"square dark a3\" stroke=\"none\" fill=\"#d18b47\" /><rect x=\"60\" y=\"240\" width=\"45\" height=\"45\" class=\"square light b3\" stroke=\"none\" fill=\"#ffce9e\" /><rect x=\"105\" y=\"240\" width=\"45\" height=\"45\" class=\"square dark c3\" stroke=\"none\" fill=\"#d18b47\" /><rect x=\"150\" y=\"240\" width=\"45\" height=\"45\" class=\"square light d3\" stroke=\"none\" fill=\"#ffce9e\" /><rect x=\"195\" y=\"240\" width=\"45\" height=\"45\" class=\"square dark e3\" stroke=\"none\" fill=\"#d18b47\" /><rect x=\"240\" y=\"240\" width=\"45\" height=\"45\" class=\"square light f3\" stroke=\"none\" fill=\"#ffce9e\" /><rect x=\"285\" y=\"240\" width=\"45\" height=\"45\" class=\"square dark g3\" stroke=\"none\" fill=\"#d18b47\" /><rect x=\"330\" y=\"240\" width=\"45\" height=\"45\" class=\"square light h3\" stroke=\"none\" fill=\"#ffce9e\" /><rect x=\"15\" y=\"195\" width=\"45\" height=\"45\" class=\"square light a4\" stroke=\"none\" fill=\"#ffce9e\" /><rect x=\"60\" y=\"195\" width=\"45\" height=\"45\" class=\"square dark b4\" stroke=\"none\" fill=\"#d18b47\" /><rect x=\"105\" y=\"195\" width=\"45\" height=\"45\" class=\"square light c4\" stroke=\"none\" fill=\"#ffce9e\" /><rect x=\"150\" y=\"195\" width=\"45\" height=\"45\" class=\"square dark d4\" stroke=\"none\" fill=\"#d18b47\" /><rect x=\"195\" y=\"195\" width=\"45\" height=\"45\" class=\"square light e4\" stroke=\"none\" fill=\"#ffce9e\" /><rect x=\"240\" y=\"195\" width=\"45\" height=\"45\" class=\"square dark f4\" stroke=\"none\" fill=\"#d18b47\" /><rect x=\"285\" y=\"195\" width=\"45\" height=\"45\" class=\"square light g4\" stroke=\"none\" fill=\"#ffce9e\" /><rect x=\"330\" y=\"195\" width=\"45\" height=\"45\" class=\"square dark h4\" stroke=\"none\" fill=\"#d18b47\" /><rect x=\"15\" y=\"150\" width=\"45\" height=\"45\" class=\"square dark a5\" stroke=\"none\" fill=\"#d18b47\" /><rect x=\"60\" y=\"150\" width=\"45\" height=\"45\" class=\"square light b5\" stroke=\"none\" fill=\"#ffce9e\" /><rect x=\"105\" y=\"150\" width=\"45\" height=\"45\" class=\"square dark c5\" stroke=\"none\" fill=\"#d18b47\" /><rect x=\"150\" y=\"150\" width=\"45\" height=\"45\" class=\"square light d5\" stroke=\"none\" fill=\"#ffce9e\" /><rect x=\"195\" y=\"150\" width=\"45\" height=\"45\" class=\"square dark e5\" stroke=\"none\" fill=\"#d18b47\" /><rect x=\"240\" y=\"150\" width=\"45\" height=\"45\" class=\"square light f5\" stroke=\"none\" fill=\"#ffce9e\" /><rect x=\"285\" y=\"150\" width=\"45\" height=\"45\" class=\"square dark g5\" stroke=\"none\" fill=\"#d18b47\" /><rect x=\"330\" y=\"150\" width=\"45\" height=\"45\" class=\"square light h5\" stroke=\"none\" fill=\"#ffce9e\" /><rect x=\"15\" y=\"105\" width=\"45\" height=\"45\" class=\"square light a6\" stroke=\"none\" fill=\"#ffce9e\" /><rect x=\"60\" y=\"105\" width=\"45\" height=\"45\" class=\"square dark b6\" stroke=\"none\" fill=\"#d18b47\" /><rect x=\"105\" y=\"105\" width=\"45\" height=\"45\" class=\"square light c6\" stroke=\"none\" fill=\"#ffce9e\" /><rect x=\"150\" y=\"105\" width=\"45\" height=\"45\" class=\"square dark d6\" stroke=\"none\" fill=\"#d18b47\" /><rect x=\"195\" y=\"105\" width=\"45\" height=\"45\" class=\"square light e6\" stroke=\"none\" fill=\"#ffce9e\" /><rect x=\"240\" y=\"105\" width=\"45\" height=\"45\" class=\"square dark f6\" stroke=\"none\" fill=\"#d18b47\" /><rect x=\"285\" y=\"105\" width=\"45\" height=\"45\" class=\"square light g6\" stroke=\"none\" fill=\"#ffce9e\" /><rect x=\"330\" y=\"105\" width=\"45\" height=\"45\" class=\"square dark h6\" stroke=\"none\" fill=\"#d18b47\" /><rect x=\"15\" y=\"60\" width=\"45\" height=\"45\" class=\"square dark a7\" stroke=\"none\" fill=\"#d18b47\" /><rect x=\"60\" y=\"60\" width=\"45\" height=\"45\" class=\"square light b7\" stroke=\"none\" fill=\"#ffce9e\" /><rect x=\"105\" y=\"60\" width=\"45\" height=\"45\" class=\"square dark c7\" stroke=\"none\" fill=\"#d18b47\" /><rect x=\"150\" y=\"60\" width=\"45\" height=\"45\" class=\"square light d7\" stroke=\"none\" fill=\"#ffce9e\" /><rect x=\"195\" y=\"60\" width=\"45\" height=\"45\" class=\"square dark e7\" stroke=\"none\" fill=\"#d18b47\" /><rect x=\"240\" y=\"60\" width=\"45\" height=\"45\" class=\"square light f7\" stroke=\"none\" fill=\"#ffce9e\" /><rect x=\"285\" y=\"60\" width=\"45\" height=\"45\" class=\"square dark g7\" stroke=\"none\" fill=\"#d18b47\" /><rect x=\"330\" y=\"60\" width=\"45\" height=\"45\" class=\"square light h7\" stroke=\"none\" fill=\"#ffce9e\" /><rect x=\"15\" y=\"15\" width=\"45\" height=\"45\" class=\"square light a8\" stroke=\"none\" fill=\"#ffce9e\" /><rect x=\"60\" y=\"15\" width=\"45\" height=\"45\" class=\"square dark b8\" stroke=\"none\" fill=\"#d18b47\" /><rect x=\"105\" y=\"15\" width=\"45\" height=\"45\" class=\"square light c8\" stroke=\"none\" fill=\"#ffce9e\" /><rect x=\"150\" y=\"15\" width=\"45\" height=\"45\" class=\"square dark d8\" stroke=\"none\" fill=\"#d18b47\" /><rect x=\"195\" y=\"15\" width=\"45\" height=\"45\" class=\"square light e8\" stroke=\"none\" fill=\"#ffce9e\" /><rect x=\"240\" y=\"15\" width=\"45\" height=\"45\" class=\"square dark f8\" stroke=\"none\" fill=\"#d18b47\" /><rect x=\"285\" y=\"15\" width=\"45\" height=\"45\" class=\"square light g8\" stroke=\"none\" fill=\"#ffce9e\" /><rect x=\"330\" y=\"15\" width=\"45\" height=\"45\" class=\"square dark h8\" stroke=\"none\" fill=\"#d18b47\" /><use href=\"#black-pawn\" xlink:href=\"#black-pawn\" transform=\"translate(15, 330)\" /><use href=\"#black-pawn\" xlink:href=\"#black-pawn\" transform=\"translate(240, 285)\" /><use href=\"#black-pawn\" xlink:href=\"#black-pawn\" transform=\"translate(150, 195)\" /><use href=\"#white-pawn\" xlink:href=\"#white-pawn\" transform=\"translate(195, 195)\" /><use href=\"#white-pawn\" xlink:href=\"#white-pawn\" transform=\"translate(150, 150)\" /><use href=\"#black-pawn\" xlink:href=\"#black-pawn\" transform=\"translate(195, 150)\" /></svg>"
      ],
      "text/plain": [
       "Board('8/8/8/3Pp3/3pP3/8/5p2/p7 w - - 0 1')"
      ]
     },
     "metadata": {},
     "output_type": "display_data"
    },
    {
     "name": "stdout",
     "output_type": "stream",
     "text": [
      "Black's turn\n"
     ]
    },
    {
     "name": "stdin",
     "output_type": "stream",
     "text": [
      " d6\n"
     ]
    },
    {
     "name": "stdout",
     "output_type": "stream",
     "text": [
      "Illegal move\n",
      "\n"
     ]
    },
    {
     "name": "stdin",
     "output_type": "stream",
     "text": [
      " d6\n"
     ]
    },
    {
     "name": "stdout",
     "output_type": "stream",
     "text": [
      "Illegal move\n",
      "\n"
     ]
    },
    {
     "ename": "KeyboardInterrupt",
     "evalue": "Interrupted by user",
     "output_type": "error",
     "traceback": [
      "\u001b[1;31m---------------------------------------------------------------------------\u001b[0m",
      "\u001b[1;31mKeyboardInterrupt\u001b[0m                         Traceback (most recent call last)",
      "Cell \u001b[1;32mIn[150], line 8\u001b[0m\n\u001b[0;32m      6\u001b[0m     display(reversi_to_chess_board(board))\n\u001b[0;32m      7\u001b[0m     \u001b[38;5;28mprint\u001b[39m(\u001b[38;5;124m\"\u001b[39m\u001b[38;5;124mBlack\u001b[39m\u001b[38;5;124m'\u001b[39m\u001b[38;5;124ms turn\u001b[39m\u001b[38;5;124m\"\u001b[39m \u001b[38;5;28;01mif\u001b[39;00m turn \u001b[38;5;241m==\u001b[39m \u001b[38;5;241m1\u001b[39m \u001b[38;5;28;01melse\u001b[39;00m \u001b[38;5;124m\"\u001b[39m\u001b[38;5;124mWhite\u001b[39m\u001b[38;5;124m'\u001b[39m\u001b[38;5;124ms turn\u001b[39m\u001b[38;5;124m\"\u001b[39m)\n\u001b[1;32m----> 8\u001b[0m     board \u001b[38;5;241m=\u001b[39m \u001b[43mhuman_move\u001b[49m\u001b[43m(\u001b[49m\u001b[43mboard\u001b[49m\u001b[43m,\u001b[49m\u001b[43m \u001b[49m\u001b[43mturn\u001b[49m\u001b[43m)\u001b[49m\n\u001b[0;32m     10\u001b[0m \u001b[38;5;28;01melse\u001b[39;00m:\n\u001b[0;32m     11\u001b[0m     board, best_move, best_value \u001b[38;5;241m=\u001b[39m bot_move(me, board)\n",
      "Cell \u001b[1;32mIn[147], line 17\u001b[0m, in \u001b[0;36mhuman_move\u001b[1;34m(board, me)\u001b[0m\n\u001b[0;32m     15\u001b[0m \u001b[38;5;28mprint\u001b[39m(\u001b[38;5;124m'\u001b[39m\u001b[38;5;124mIllegal move\u001b[39m\u001b[38;5;124m'\u001b[39m)\n\u001b[0;32m     16\u001b[0m \u001b[38;5;28mprint\u001b[39m()\n\u001b[1;32m---> 17\u001b[0m \u001b[38;5;28;01mreturn\u001b[39;00m \u001b[43mhuman_move\u001b[49m\u001b[43m(\u001b[49m\u001b[43mboard\u001b[49m\u001b[43m,\u001b[49m\u001b[43m \u001b[49m\u001b[43mme\u001b[49m\u001b[43m)\u001b[49m\n",
      "Cell \u001b[1;32mIn[147], line 17\u001b[0m, in \u001b[0;36mhuman_move\u001b[1;34m(board, me)\u001b[0m\n\u001b[0;32m     15\u001b[0m \u001b[38;5;28mprint\u001b[39m(\u001b[38;5;124m'\u001b[39m\u001b[38;5;124mIllegal move\u001b[39m\u001b[38;5;124m'\u001b[39m)\n\u001b[0;32m     16\u001b[0m \u001b[38;5;28mprint\u001b[39m()\n\u001b[1;32m---> 17\u001b[0m \u001b[38;5;28;01mreturn\u001b[39;00m \u001b[43mhuman_move\u001b[49m\u001b[43m(\u001b[49m\u001b[43mboard\u001b[49m\u001b[43m,\u001b[49m\u001b[43m \u001b[49m\u001b[43mme\u001b[49m\u001b[43m)\u001b[49m\n",
      "Cell \u001b[1;32mIn[147], line 8\u001b[0m, in \u001b[0;36mhuman_move\u001b[1;34m(board, me)\u001b[0m\n\u001b[0;32m      7\u001b[0m \u001b[38;5;28;01mdef\u001b[39;00m \u001b[38;5;21mhuman_move\u001b[39m(board, me):\n\u001b[1;32m----> 8\u001b[0m     move \u001b[38;5;241m=\u001b[39m \u001b[38;5;28;43minput\u001b[39;49m\u001b[43m(\u001b[49m\u001b[43m)\u001b[49m\n\u001b[0;32m      9\u001b[0m     move \u001b[38;5;241m=\u001b[39m square_to_move(move)\n\u001b[0;32m     10\u001b[0m     position_bit, colors_flip \u001b[38;5;241m=\u001b[39m calculate_move(me, move, translate_to_bin(board))\n",
      "File \u001b[1;32m~\\AppData\\Local\\Programs\\Python\\Python310\\lib\\site-packages\\ipykernel\\kernelbase.py:1182\u001b[0m, in \u001b[0;36mKernel.raw_input\u001b[1;34m(self, prompt)\u001b[0m\n\u001b[0;32m   1180\u001b[0m     msg \u001b[38;5;241m=\u001b[39m \u001b[38;5;124m\"\u001b[39m\u001b[38;5;124mraw_input was called, but this frontend does not support input requests.\u001b[39m\u001b[38;5;124m\"\u001b[39m\n\u001b[0;32m   1181\u001b[0m     \u001b[38;5;28;01mraise\u001b[39;00m StdinNotImplementedError(msg)\n\u001b[1;32m-> 1182\u001b[0m \u001b[38;5;28;01mreturn\u001b[39;00m \u001b[38;5;28;43mself\u001b[39;49m\u001b[38;5;241;43m.\u001b[39;49m\u001b[43m_input_request\u001b[49m\u001b[43m(\u001b[49m\n\u001b[0;32m   1183\u001b[0m \u001b[43m    \u001b[49m\u001b[38;5;28;43mstr\u001b[39;49m\u001b[43m(\u001b[49m\u001b[43mprompt\u001b[49m\u001b[43m)\u001b[49m\u001b[43m,\u001b[49m\n\u001b[0;32m   1184\u001b[0m \u001b[43m    \u001b[49m\u001b[38;5;28;43mself\u001b[39;49m\u001b[38;5;241;43m.\u001b[39;49m\u001b[43m_parent_ident\u001b[49m\u001b[43m[\u001b[49m\u001b[38;5;124;43m\"\u001b[39;49m\u001b[38;5;124;43mshell\u001b[39;49m\u001b[38;5;124;43m\"\u001b[39;49m\u001b[43m]\u001b[49m\u001b[43m,\u001b[49m\n\u001b[0;32m   1185\u001b[0m \u001b[43m    \u001b[49m\u001b[38;5;28;43mself\u001b[39;49m\u001b[38;5;241;43m.\u001b[39;49m\u001b[43mget_parent\u001b[49m\u001b[43m(\u001b[49m\u001b[38;5;124;43m\"\u001b[39;49m\u001b[38;5;124;43mshell\u001b[39;49m\u001b[38;5;124;43m\"\u001b[39;49m\u001b[43m)\u001b[49m\u001b[43m,\u001b[49m\n\u001b[0;32m   1186\u001b[0m \u001b[43m    \u001b[49m\u001b[43mpassword\u001b[49m\u001b[38;5;241;43m=\u001b[39;49m\u001b[38;5;28;43;01mFalse\u001b[39;49;00m\u001b[43m,\u001b[49m\n\u001b[0;32m   1187\u001b[0m \u001b[43m\u001b[49m\u001b[43m)\u001b[49m\n",
      "File \u001b[1;32m~\\AppData\\Local\\Programs\\Python\\Python310\\lib\\site-packages\\ipykernel\\kernelbase.py:1225\u001b[0m, in \u001b[0;36mKernel._input_request\u001b[1;34m(self, prompt, ident, parent, password)\u001b[0m\n\u001b[0;32m   1222\u001b[0m \u001b[38;5;28;01mexcept\u001b[39;00m \u001b[38;5;167;01mKeyboardInterrupt\u001b[39;00m:\n\u001b[0;32m   1223\u001b[0m     \u001b[38;5;66;03m# re-raise KeyboardInterrupt, to truncate traceback\u001b[39;00m\n\u001b[0;32m   1224\u001b[0m     msg \u001b[38;5;241m=\u001b[39m \u001b[38;5;124m\"\u001b[39m\u001b[38;5;124mInterrupted by user\u001b[39m\u001b[38;5;124m\"\u001b[39m\n\u001b[1;32m-> 1225\u001b[0m     \u001b[38;5;28;01mraise\u001b[39;00m \u001b[38;5;167;01mKeyboardInterrupt\u001b[39;00m(msg) \u001b[38;5;28;01mfrom\u001b[39;00m \u001b[38;5;28mNone\u001b[39m\n\u001b[0;32m   1226\u001b[0m \u001b[38;5;28;01mexcept\u001b[39;00m \u001b[38;5;167;01mException\u001b[39;00m:\n\u001b[0;32m   1227\u001b[0m     \u001b[38;5;28mself\u001b[39m\u001b[38;5;241m.\u001b[39mlog\u001b[38;5;241m.\u001b[39mwarning(\u001b[38;5;124m\"\u001b[39m\u001b[38;5;124mInvalid Message:\u001b[39m\u001b[38;5;124m\"\u001b[39m, exc_info\u001b[38;5;241m=\u001b[39m\u001b[38;5;28;01mTrue\u001b[39;00m)\n",
      "\u001b[1;31mKeyboardInterrupt\u001b[0m: Interrupted by user"
     ]
    }
   ],
   "source": [
    "board = STARTING_BOARD\n",
    "\n",
    "turn = 1\n",
    "for i in range(SIZE ** 2):\n",
    "    if turn == 1:\n",
    "        display(reversi_to_chess_board(board))\n",
    "        print(\"Black's turn\" if turn == 1 else \"White's turn\")\n",
    "        board = human_move(board, turn)\n",
    "        \n",
    "    else:\n",
    "        board, best_move, best_value = bot_move(me, board)\n",
    "        \n",
    "    available_moves = get_available_moves(turn, board)\n",
    "    if not len(available_moves) == 0:\n",
    "        turn = 1 - turn\n",
    "    else:\n",
    "        print('No moves')\n",
    "    print(best_move, best_value)        \n",
    "        "
   ]
  },
  {
   "cell_type": "code",
   "execution_count": 148,
   "id": "4d013e84-2b0a-4585-97e5-b2aad6819f0f",
   "metadata": {
    "tags": []
   },
   "outputs": [
    {
     "name": "stdout",
     "output_type": "stream",
     "text": [
      "(0, 0)\n"
     ]
    },
    {
     "data": {
      "text/plain": [
       "(1, 1)"
      ]
     },
     "execution_count": 148,
     "metadata": {},
     "output_type": "execute_result"
    }
   ],
   "source": [
    "move = square_to_move('a1')\n",
    "print(move)\n",
    "calculate_move(1, move, translate_to_bin(board))"
   ]
  },
  {
   "cell_type": "code",
   "execution_count": null,
   "id": "4b26bfd6-33ac-42cb-a919-272fdef56158",
   "metadata": {},
   "outputs": [],
   "source": []
  },
  {
   "cell_type": "code",
   "execution_count": null,
   "id": "6ad0f4b5-e0a3-4676-a693-2793c66a3aa8",
   "metadata": {},
   "outputs": [],
   "source": [
    "def play()"
   ]
  },
  {
   "cell_type": "code",
   "execution_count": 48,
   "id": "262b6a36-3bdb-477d-a461-d39dfd248deb",
   "metadata": {
    "tags": []
   },
   "outputs": [
    {
     "data": {
      "text/plain": [
       "'01......\\n........\\n........\\n...01...\\n...10...\\n........\\n........\\n........\\n'"
      ]
     },
     "execution_count": 48,
     "metadata": {},
     "output_type": "execute_result"
    }
   ],
   "source": [
    "preview_board(bin_board)"
   ]
  },
  {
   "cell_type": "code",
   "execution_count": 78,
   "id": "11c91a7b-92de-4a2d-9c3e-c481b8d21592",
   "metadata": {
    "tags": []
   },
   "outputs": [
    {
     "name": "stdout",
     "output_type": "stream",
     "text": [
      "........\n",
      "........\n",
      "........\n",
      "...01...\n",
      "...10...\n",
      "........\n",
      "........\n",
      "........\n",
      "\n"
     ]
    }
   ],
   "source": [
    "print(preview_board(STARTING_BIN_BOARD))"
   ]
  },
  {
   "cell_type": "code",
   "execution_count": 65,
   "id": "181587f9-6c8e-4736-b79b-76bdc908342e",
   "metadata": {
    "tags": []
   },
   "outputs": [
    {
     "name": "stdout",
     "output_type": "stream",
     "text": [
      "3 4\n",
      "3 4\n",
      "3 4\n",
      "3 4\n"
     ]
    },
    {
     "data": {
      "text/plain": [
       "((524288, 134742016), -56.9)"
      ]
     },
     "execution_count": 65,
     "metadata": {},
     "output_type": "execute_result"
    }
   ],
   "source": [
    "minimax(bin_board, 1, 1)"
   ]
  },
  {
   "cell_type": "code",
   "execution_count": 64,
   "id": "997be542-38c2-421f-9837-66e6f173e118",
   "metadata": {
    "tags": []
   },
   "outputs": [],
   "source": [
    "bin_board = apply_move(STARTING_BIN_BOARD, (3, 2))"
   ]
  },
  {
   "cell_type": "code",
   "execution_count": null,
   "id": "60411e04-9a99-4454-86d7-7088996e8648",
   "metadata": {},
   "outputs": [],
   "source": []
  },
  {
   "cell_type": "code",
   "execution_count": 75,
   "id": "c53fe2ff-f23b-411d-b159-c934b9d9f34b",
   "metadata": {
    "tags": []
   },
   "outputs": [
    {
     "name": "stdout",
     "output_type": "stream",
     "text": [
      "00......\n",
      "........\n",
      "........\n",
      "...01...\n",
      "...10...\n",
      "........\n",
      "........\n",
      "........\n",
      "\n"
     ]
    }
   ],
   "source": [
    "print(preview_board(apply_move(STARTING_BIN_BOARD, (3, 4))))"
   ]
  },
  {
   "cell_type": "code",
   "execution_count": 34,
   "id": "75e47b98-a9de-4f47-939e-0c6a471c7d23",
   "metadata": {
    "tags": []
   },
   "outputs": [
    {
     "name": "stdout",
     "output_type": "stream",
     "text": [
      "1 1 0 0 0 0 0 0\n",
      "1 1 0 0 0 0 0 0\n",
      "0 1 0 0 0 0 0 0\n",
      "0 0 0 0 0 0 0 0\n",
      "0 0 0 0 0\n",
      "\n",
      "\n",
      "\n"
     ]
    }
   ],
   "source": [
    "binary_string = '0b1100000011000000010000000000000000000'\n",
    "\n",
    "# Convert the binary string to a list of lists (8x8 matrix)\n",
    "matrix = [[int(bit) for bit in binary_string[2 + i * 8:2 + (i + 1) * 8]] for i in range(8)]\n",
    "\n",
    "# Print the visual representation of the matrix\n",
    "for row in matrix:\n",
    "    print(' '.join(map(str, row)))\n"
   ]
  },
  {
   "cell_type": "code",
   "execution_count": null,
   "id": "6f640652-3165-4da9-bb4c-d04f4abb6674",
   "metadata": {},
   "outputs": [],
   "source": [
    "def density(board, me):\n",
    "\n",
    "    taken_places, colors = board\n",
    "\n",
    "    row, col = move\n",
    "    move_position_bit = 1 << (row * SIZE + col)\n",
    "\n",
    "    colors_flip = 0\n",
    "\n",
    "    for (d_row, d_col), bit_offset in zip(DIRECTIONS, DIRECTIONS_OFFSETS):\n",
    "        row, col = move\n",
    "\n",
    "        bit = move_position_bit\n",
    "        flip_n = 0"
   ]
  },
  {
   "cell_type": "code",
   "execution_count": null,
   "id": "60aa0261-03d9-4a5c-8322-3969ac3a6161",
   "metadata": {},
   "outputs": [],
   "source": [
    "def density(board, me):\n",
    "    density = 0\n",
    "    for i in binary_string:\n",
    "        if me == 1:\n",
    "            "
   ]
  },
  {
   "cell_type": "code",
   "execution_count": 81,
   "id": "dbddc007-89e0-4907-b8cc-569a6899d222",
   "metadata": {
    "tags": []
   },
   "outputs": [],
   "source": [
    "def calculate_density(board, your_color):\n",
    "    board_size = 8  # Adjust this to match your chess board size\n",
    "    your_density = 0\n",
    "    opponent_density = 0\n",
    "\n",
    "    for row in range(board_size):\n",
    "        for col in range(board_size):\n",
    "            if board[row][col] == your_color:\n",
    "                neighbors = [(row - 1, col - 1), (row - 1, col), (row - 1, col + 1),\n",
    "                             (row, col - 1), (row, col + 1),\n",
    "                             (row + 1, col - 1), (row + 1, col), (row + 1, col + 1)]\n",
    "\n",
    "                for neighbor_row, neighbor_col in neighbors:\n",
    "                    if 0 <= neighbor_row < board_size and 0 <= neighbor_col < board_size:\n",
    "                        if board[neighbor_row][neighbor_col] == your_color:\n",
    "                            your_density += 1\n",
    "                        else:\n",
    "                            opponent_density += 1\n",
    "\n",
    "    total_your_pieces = sum(row.count(your_color) for row in board)\n",
    "    total_opponent_pieces = sum(row.count(1 - your_color) for row in board)\n",
    "\n",
    "    your_density /= total_your_pieces\n",
    "    opponent_density /= total_opponent_pieces\n",
    "\n",
    "    return your_density, opponent_density"
   ]
  },
  {
   "cell_type": "code",
   "execution_count": 87,
   "id": "40ebebed-6d9c-4952-96b8-77b03ba67d6c",
   "metadata": {
    "tags": []
   },
   "outputs": [
    {
     "ename": "ZeroDivisionError",
     "evalue": "division by zero",
     "output_type": "error",
     "traceback": [
      "\u001b[1;31m---------------------------------------------------------------------------\u001b[0m",
      "\u001b[1;31mZeroDivisionError\u001b[0m                         Traceback (most recent call last)",
      "Cell \u001b[1;32mIn[87], line 12\u001b[0m\n\u001b[0;32m      2\u001b[0m your_color \u001b[38;5;241m=\u001b[39m \u001b[38;5;241m1\u001b[39m  \u001b[38;5;66;03m# Replace with your color value (1 or 0)\u001b[39;00m\n\u001b[0;32m      3\u001b[0m board \u001b[38;5;241m=\u001b[39m [[\u001b[38;5;241m0\u001b[39m, \u001b[38;5;241m1\u001b[39m, \u001b[38;5;241m1\u001b[39m, \u001b[38;5;241m0\u001b[39m, \u001b[38;5;241m0\u001b[39m, \u001b[38;5;241m0\u001b[39m, \u001b[38;5;241m1\u001b[39m, \u001b[38;5;241m0\u001b[39m],\n\u001b[0;32m      4\u001b[0m          [\u001b[38;5;241m1\u001b[39m, \u001b[38;5;241m1\u001b[39m, \u001b[38;5;241m0\u001b[39m, \u001b[38;5;241m0\u001b[39m, \u001b[38;5;241m0\u001b[39m, \u001b[38;5;241m1\u001b[39m, \u001b[38;5;241m0\u001b[39m, \u001b[38;5;241m0\u001b[39m],\n\u001b[0;32m      5\u001b[0m          [\u001b[38;5;241m0\u001b[39m, \u001b[38;5;241m0\u001b[39m, \u001b[38;5;241m0\u001b[39m, \u001b[38;5;241m0\u001b[39m, \u001b[38;5;241m0\u001b[39m, \u001b[38;5;241m0\u001b[39m, \u001b[38;5;241m0\u001b[39m, \u001b[38;5;241m0\u001b[39m],\n\u001b[1;32m   (...)\u001b[0m\n\u001b[0;32m      9\u001b[0m          [\u001b[38;5;241m0\u001b[39m, \u001b[38;5;241m0\u001b[39m, \u001b[38;5;241m0\u001b[39m, \u001b[38;5;241m0\u001b[39m, \u001b[38;5;241m0\u001b[39m, \u001b[38;5;241m0\u001b[39m, \u001b[38;5;241m0\u001b[39m, \u001b[38;5;241m0\u001b[39m],\n\u001b[0;32m     10\u001b[0m          [\u001b[38;5;241m0\u001b[39m, \u001b[38;5;241m0\u001b[39m, \u001b[38;5;241m0\u001b[39m, \u001b[38;5;241m0\u001b[39m, \u001b[38;5;241m0\u001b[39m, \u001b[38;5;241m0\u001b[39m, \u001b[38;5;241m0\u001b[39m, \u001b[38;5;241m0\u001b[39m]]\n\u001b[1;32m---> 12\u001b[0m density \u001b[38;5;241m=\u001b[39m \u001b[43mcalculate_density\u001b[49m\u001b[43m(\u001b[49m\u001b[43mtranslate_to_bin\u001b[49m\u001b[43m(\u001b[49m\u001b[43mboard\u001b[49m\u001b[43m)\u001b[49m\u001b[43m[\u001b[49m\u001b[38;5;241;43m0\u001b[39;49m\u001b[43m]\u001b[49m\u001b[43m,\u001b[49m\u001b[43m \u001b[49m\u001b[43myour_color\u001b[49m\u001b[43m)\u001b[49m\n\u001b[0;32m     13\u001b[0m \u001b[38;5;28mprint\u001b[39m(\u001b[38;5;124m\"\u001b[39m\u001b[38;5;124mYour density:\u001b[39m\u001b[38;5;124m\"\u001b[39m, density)\n",
      "Cell \u001b[1;32mIn[85], line 21\u001b[0m, in \u001b[0;36mcalculate_density\u001b[1;34m(taken_places, colors)\u001b[0m\n\u001b[0;32m     18\u001b[0m total_your_pieces \u001b[38;5;241m=\u001b[39m \u001b[38;5;28mbin\u001b[39m(taken_places \u001b[38;5;241m&\u001b[39m colors)\u001b[38;5;241m.\u001b[39mcount(\u001b[38;5;124m'\u001b[39m\u001b[38;5;124m1\u001b[39m\u001b[38;5;124m'\u001b[39m)\n\u001b[0;32m     19\u001b[0m total_opponent_pieces \u001b[38;5;241m=\u001b[39m \u001b[38;5;28mbin\u001b[39m(taken_places \u001b[38;5;241m&\u001b[39m \u001b[38;5;241m~\u001b[39mcolors)\u001b[38;5;241m.\u001b[39mcount(\u001b[38;5;124m'\u001b[39m\u001b[38;5;124m1\u001b[39m\u001b[38;5;124m'\u001b[39m)\n\u001b[1;32m---> 21\u001b[0m your_density \u001b[38;5;241m/\u001b[39m\u001b[38;5;241m=\u001b[39m total_your_pieces\n\u001b[0;32m     22\u001b[0m opponent_density \u001b[38;5;241m/\u001b[39m\u001b[38;5;241m=\u001b[39m total_opponent_pieces\n\u001b[0;32m     24\u001b[0m \u001b[38;5;28;01mreturn\u001b[39;00m your_density, opponent_density\n",
      "\u001b[1;31mZeroDivisionError\u001b[0m: division by zero"
     ]
    }
   ],
   "source": [
    "# Usage example:\n",
    "your_color = 1  # Replace with your color value (1 or 0)\n",
    "board = [[0, 1, 1, 0, 0, 0, 1, 0],\n",
    "         [1, 1, 0, 0, 0, 1, 0, 0],\n",
    "         [0, 0, 0, 0, 0, 0, 0, 0],\n",
    "         [0, 1, 0, 1, 1, 0, 1, 0],\n",
    "         [0, 0, 0, 0, 0, 0, 0, 0],\n",
    "         [0, 0, 1, 0, 0, 1, 0, 0],\n",
    "         [0, 0, 0, 0, 0, 0, 0, 0],\n",
    "         [0, 0, 0, 0, 0, 0, 0, 0]]\n",
    "\n",
    "density = calculate_density(translate_to_bin(board)[0], your_color)\n",
    "print(\"Your density:\", density)"
   ]
  },
  {
   "cell_type": "code",
   "execution_count": 86,
   "id": "e5e3b518-0d3b-40c2-95e4-a83cb0ae5854",
   "metadata": {
    "tags": []
   },
   "outputs": [
    {
     "data": {
      "text/plain": [
       "(39583928558406, 0)"
      ]
     },
     "execution_count": 86,
     "metadata": {},
     "output_type": "execute_result"
    }
   ],
   "source": [
    "translate_to_bin(board)"
   ]
  },
  {
   "cell_type": "code",
   "execution_count": 85,
   "id": "87909b6f-bce7-4cd3-addc-3d6e63d5d45e",
   "metadata": {
    "tags": []
   },
   "outputs": [],
   "source": [
    "def calculate_density(taken_places, colors):\n",
    "    board_size = 8  # Adjust this to match your chess board size\n",
    "    your_color = 1  # Change to match your color (1 or 0)\n",
    "\n",
    "    your_density = 0\n",
    "    opponent_density = 0\n",
    "\n",
    "    for row in range(board_size):\n",
    "        for col in range(board_size):\n",
    "            bit_position = row * board_size + col\n",
    "\n",
    "            if (taken_places & (1 << bit_position)) != 0:\n",
    "                if (colors & (1 << bit_position)) == your_color:\n",
    "                    your_density += 1\n",
    "                else:\n",
    "                    opponent_density += 1\n",
    "\n",
    "    total_your_pieces = bin(taken_places & colors).count('1')\n",
    "    total_opponent_pieces = bin(taken_places & ~colors).count('1')\n",
    "\n",
    "    your_density /= total_your_pieces\n",
    "    opponent_density /= total_opponent_pieces\n",
    "\n",
    "    return your_density, opponent_density\n"
   ]
  },
  {
   "cell_type": "code",
   "execution_count": null,
   "id": "d878ab88-9d1c-4b49-8b27-d383ba23d235",
   "metadata": {},
   "outputs": [],
   "source": [
    "taken_places 1\n",
    "colors 0"
   ]
  },
  {
   "cell_type": "code",
   "execution_count": null,
   "id": "a7790cfb-fdfb-498c-a7d0-a3797d6d5949",
   "metadata": {},
   "outputs": [],
   "source": [
    "# Nice function for playing against ourself\n",
    "# Sandwich maybe with bits\n",
    "# Add evaluation for stable disks that cannot be flipped\n",
    "# When there is stable for example a corner or an e"
   ]
  }
 ],
 "metadata": {
  "kernelspec": {
   "display_name": "Python 3 (ipykernel)",
   "language": "python",
   "name": "python3"
  },
  "language_info": {
   "codemirror_mode": {
    "name": "ipython",
    "version": 3
   },
   "file_extension": ".py",
   "mimetype": "text/x-python",
   "name": "python",
   "nbconvert_exporter": "python",
   "pygments_lexer": "ipython3",
   "version": "3.10.10"
  }
 },
 "nbformat": 4,
 "nbformat_minor": 5
}
